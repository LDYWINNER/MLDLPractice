{
 "cells": [
  {
   "cell_type": "code",
   "execution_count": 2,
   "outputs": [],
   "source": [
    "# 파이썬 ≥3.5 필수\n",
    "import sys\n",
    "assert sys.version_info >= (3, 5)\n",
    "\n",
    "# 사이킷런 ≥0.20 필수\n",
    "import sklearn\n",
    "assert sklearn.__version__ >= \"0.20\"\n",
    "\n",
    "# 텐서플로 ≥2.0 필수\n",
    "import tensorflow as tf\n",
    "assert tf.__version__ >= \"2.0\"\n",
    "\n",
    "# 공통 모듈 임포트\n",
    "import numpy as np\n",
    "import os\n",
    "\n",
    "# 노트북 실행 결과를 동일하게 유지하기 위해\n",
    "np.random.seed(42)\n",
    "\n",
    "# 깔끔한 그래프 출력을 위해\n",
    "%matplotlib inline\n",
    "import matplotlib as mpl\n",
    "import matplotlib.pyplot as plt\n",
    "mpl.rc('axes', labelsize=14)\n",
    "mpl.rc('xtick', labelsize=12)\n",
    "mpl.rc('ytick', labelsize=12)\n",
    "\n",
    "# 그림을 저장할 위치\n",
    "PROJECT_ROOT_DIR = \".\"\n",
    "CHAPTER_ID = \"ann\"\n",
    "IMAGES_PATH = os.path.join(PROJECT_ROOT_DIR, \"images\", CHAPTER_ID)\n",
    "os.makedirs(IMAGES_PATH, exist_ok=True)\n",
    "\n",
    "def save_fig(fig_id, tight_layout=True, fig_extension=\"png\", resolution=300):\n",
    "    path = os.path.join(IMAGES_PATH, fig_id + \".\" + fig_extension)\n",
    "    print(\"그림 저장:\", fig_id)\n",
    "    if tight_layout:\n",
    "        plt.tight_layout()\n",
    "    plt.savefig(path, format=fig_extension, dpi=resolution)"
   ],
   "metadata": {
    "collapsed": false,
    "ExecuteTime": {
     "end_time": "2023-07-30T13:04:21.376222Z",
     "start_time": "2023-07-30T13:04:17.857490Z"
    }
   },
   "id": "406ac646beaabd47"
  },
  {
   "cell_type": "code",
   "execution_count": 3,
   "outputs": [
    {
     "name": "stdout",
     "output_type": "stream",
     "text": [
      "2.13.0\n"
     ]
    }
   ],
   "source": [
    "import tensorflow as tf\n",
    "from tensorflow import keras\n",
    "print(tf.__version__)"
   ],
   "metadata": {
    "collapsed": false,
    "ExecuteTime": {
     "end_time": "2023-07-30T13:04:27.694060Z",
     "start_time": "2023-07-30T13:04:27.684955Z"
    }
   },
   "id": "290b0af41817c73e"
  },
  {
   "cell_type": "code",
   "execution_count": 4,
   "id": "initial_id",
   "metadata": {
    "collapsed": true,
    "ExecuteTime": {
     "end_time": "2023-07-30T13:04:28.008332Z",
     "start_time": "2023-07-30T13:04:27.995454Z"
    }
   },
   "outputs": [],
   "source": [
    "from sklearn.datasets import fetch_california_housing\n",
    "from sklearn.model_selection import train_test_split\n",
    "from sklearn.preprocessing import StandardScaler\n",
    "\n",
    "housing = fetch_california_housing()\n",
    "\n",
    "X_train_full, X_test, y_train_full, y_test = train_test_split(housing.data, housing.target)\n",
    "X_train, X_valid, y_train, y_valid = train_test_split(X_train_full, y_train_full)\n",
    "\n",
    "scaler = StandardScaler()\n",
    "X_train = scaler.fit_transform(X_train)\n",
    "X_valid = scaler.transform(X_valid)\n",
    "X_test = scaler.transform(X_test)"
   ]
  },
  {
   "cell_type": "code",
   "execution_count": 5,
   "outputs": [
    {
     "name": "stdout",
     "output_type": "stream",
     "text": [
      "Epoch 1/20\n",
      "363/363 [==============================] - 0s 601us/step - loss: 0.8518 - val_loss: 1.0610\n",
      "Epoch 2/20\n",
      "363/363 [==============================] - 0s 434us/step - loss: 1.5156 - val_loss: 0.5786\n",
      "Epoch 3/20\n",
      "363/363 [==============================] - 0s 417us/step - loss: 0.4614 - val_loss: 0.5428\n",
      "Epoch 4/20\n",
      "363/363 [==============================] - 0s 434us/step - loss: 4.4643 - val_loss: 1.0223\n",
      "Epoch 5/20\n",
      "363/363 [==============================] - 0s 474us/step - loss: 0.4948 - val_loss: 0.4682\n",
      "Epoch 6/20\n",
      "363/363 [==============================] - 0s 429us/step - loss: 0.4209 - val_loss: 0.4430\n",
      "Epoch 7/20\n",
      "363/363 [==============================] - 0s 424us/step - loss: 0.4067 - val_loss: 0.4317\n",
      "Epoch 8/20\n",
      "363/363 [==============================] - 0s 427us/step - loss: 0.3981 - val_loss: 0.4215\n",
      "Epoch 9/20\n",
      "363/363 [==============================] - 0s 448us/step - loss: 0.3917 - val_loss: 0.4450\n",
      "Epoch 10/20\n",
      "363/363 [==============================] - 0s 433us/step - loss: 0.3850 - val_loss: 0.4306\n",
      "Epoch 11/20\n",
      "363/363 [==============================] - 0s 432us/step - loss: 0.3798 - val_loss: 0.4036\n",
      "Epoch 12/20\n",
      "363/363 [==============================] - 0s 439us/step - loss: 0.3760 - val_loss: 0.4055\n",
      "Epoch 13/20\n",
      "363/363 [==============================] - 0s 445us/step - loss: 0.3715 - val_loss: 0.3973\n",
      "Epoch 14/20\n",
      "363/363 [==============================] - 0s 606us/step - loss: 0.3673 - val_loss: 0.3959\n",
      "Epoch 15/20\n",
      "363/363 [==============================] - 0s 434us/step - loss: 0.3634 - val_loss: 0.3930\n",
      "Epoch 16/20\n",
      "363/363 [==============================] - 0s 427us/step - loss: 0.3596 - val_loss: 0.5495\n",
      "Epoch 17/20\n",
      "363/363 [==============================] - 0s 444us/step - loss: 0.3591 - val_loss: 0.3924\n",
      "Epoch 18/20\n",
      "363/363 [==============================] - 0s 476us/step - loss: 0.3542 - val_loss: 0.3852\n",
      "Epoch 19/20\n",
      "363/363 [==============================] - 0s 459us/step - loss: 0.3511 - val_loss: 0.3890\n",
      "Epoch 20/20\n",
      "363/363 [==============================] - 0s 618us/step - loss: 0.3524 - val_loss: 0.3792\n",
      "162/162 [==============================] - 0s 291us/step - loss: 0.4127\n",
      "1/1 [==============================] - 0s 37ms/step\n"
     ]
    }
   ],
   "source": [
    "model = keras.models.Sequential([\n",
    "    keras.layers.Dense(30, activation=\"relu\", input_shape=X_train.shape[1:]),\n",
    "    keras.layers.Dense(1)\n",
    "])\n",
    "model.compile(loss=\"mean_squared_error\", optimizer=\"sgd\")\n",
    "history = model.fit(X_train, y_train, epochs=20, validation_data=(X_valid, y_valid))\n",
    "mse_test = model.evaluate(X_test, y_test)\n",
    "X_new = X_test[:3]\n",
    "y_pred = model.predict(X_new)"
   ],
   "metadata": {
    "collapsed": false,
    "ExecuteTime": {
     "end_time": "2023-07-30T13:11:11.561788Z",
     "start_time": "2023-07-30T13:11:07.624456Z"
    }
   },
   "id": "d22bb198cc7a1f68"
  },
  {
   "cell_type": "code",
   "execution_count": 6,
   "outputs": [
    {
     "data": {
      "text/plain": "array([[0.74531263],\n       [1.4477978 ],\n       [3.7287421 ]], dtype=float32)"
     },
     "execution_count": 6,
     "metadata": {},
     "output_type": "execute_result"
    }
   ],
   "source": [
    "y_pred"
   ],
   "metadata": {
    "collapsed": false,
    "ExecuteTime": {
     "end_time": "2023-07-30T13:11:18.551232Z",
     "start_time": "2023-07-30T13:11:18.516425Z"
    }
   },
   "id": "38c48ff6fb4b5a42"
  },
  {
   "cell_type": "code",
   "execution_count": null,
   "outputs": [],
   "source": [],
   "metadata": {
    "collapsed": false
   },
   "id": "bcc1864f321bf31d"
  }
 ],
 "metadata": {
  "kernelspec": {
   "display_name": "Python 3",
   "language": "python",
   "name": "python3"
  },
  "language_info": {
   "codemirror_mode": {
    "name": "ipython",
    "version": 2
   },
   "file_extension": ".py",
   "mimetype": "text/x-python",
   "name": "python",
   "nbconvert_exporter": "python",
   "pygments_lexer": "ipython2",
   "version": "2.7.6"
  }
 },
 "nbformat": 4,
 "nbformat_minor": 5
}
