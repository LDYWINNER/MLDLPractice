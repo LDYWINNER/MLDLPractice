{
 "cells": [
  {
   "cell_type": "markdown",
   "source": [
    "## Wide & Deep NN"
   ],
   "metadata": {
    "collapsed": false
   },
   "id": "8b0be7eaf3c052cb"
  },
  {
   "cell_type": "code",
   "execution_count": 8,
   "outputs": [
    {
     "name": "stdout",
     "output_type": "stream",
     "text": [
      "2.13.0\n"
     ]
    }
   ],
   "source": [
    "# 파이썬 ≥3.5 필수\n",
    "import sys\n",
    "assert sys.version_info >= (3, 5)\n",
    "\n",
    "# 사이킷런 ≥0.20 필수\n",
    "import sklearn\n",
    "assert sklearn.__version__ >= \"0.20\"\n",
    "\n",
    "# 텐서플로 ≥2.0 필수\n",
    "import tensorflow as tf\n",
    "assert tf.__version__ >= \"2.0\"\n",
    "\n",
    "# 공통 모듈 임포트\n",
    "import numpy as np\n",
    "import os\n",
    "\n",
    "# 노트북 실행 결과를 동일하게 유지하기 위해\n",
    "np.random.seed(42)\n",
    "\n",
    "# 깔끔한 그래프 출력을 위해\n",
    "%matplotlib inline\n",
    "import matplotlib as mpl\n",
    "import matplotlib.pyplot as plt\n",
    "mpl.rc('axes', labelsize=14)\n",
    "mpl.rc('xtick', labelsize=12)\n",
    "mpl.rc('ytick', labelsize=12)\n",
    "\n",
    "# 그림을 저장할 위치\n",
    "PROJECT_ROOT_DIR = \".\"\n",
    "CHAPTER_ID = \"ann\"\n",
    "IMAGES_PATH = os.path.join(PROJECT_ROOT_DIR, \"images\", CHAPTER_ID)\n",
    "os.makedirs(IMAGES_PATH, exist_ok=True)\n",
    "\n",
    "def save_fig(fig_id, tight_layout=True, fig_extension=\"png\", resolution=300):\n",
    "    path = os.path.join(IMAGES_PATH, fig_id + \".\" + fig_extension)\n",
    "    print(\"그림 저장:\", fig_id)\n",
    "    if tight_layout:\n",
    "        plt.tight_layout()\n",
    "    plt.savefig(path, format=fig_extension, dpi=resolution)\n",
    "\n",
    "import tensorflow as tf\n",
    "from tensorflow import keras\n",
    "print(tf.__version__)\n",
    "\n",
    "import pandas as pd"
   ],
   "metadata": {
    "collapsed": false,
    "ExecuteTime": {
     "end_time": "2023-07-30T13:56:44.790642Z",
     "start_time": "2023-07-30T13:56:44.784652Z"
    }
   },
   "id": "3b6f092caf719c27"
  },
  {
   "cell_type": "code",
   "execution_count": 9,
   "outputs": [],
   "source": [
    "from sklearn.datasets import fetch_california_housing\n",
    "from sklearn.model_selection import train_test_split\n",
    "from sklearn.preprocessing import StandardScaler\n",
    "\n",
    "housing = fetch_california_housing()\n",
    "\n",
    "X_train_full, X_test, y_train_full, y_test = train_test_split(housing.data, housing.target)\n",
    "X_train, X_valid, y_train, y_valid = train_test_split(X_train_full, y_train_full)\n",
    "\n",
    "scaler = StandardScaler()\n",
    "X_train = scaler.fit_transform(X_train)\n",
    "X_valid = scaler.transform(X_valid)\n",
    "X_test = scaler.transform(X_test)"
   ],
   "metadata": {
    "collapsed": false,
    "ExecuteTime": {
     "end_time": "2023-07-30T13:56:46.376206Z",
     "start_time": "2023-07-30T13:56:46.353125Z"
    }
   },
   "id": "d6865ca11b3a401e"
  },
  {
   "cell_type": "code",
   "execution_count": 14,
   "outputs": [],
   "source": [
    "np.random.seed(42)\n",
    "tf.random.set_seed(42)"
   ],
   "metadata": {
    "collapsed": false,
    "ExecuteTime": {
     "end_time": "2023-07-30T13:58:47.598781Z",
     "start_time": "2023-07-30T13:58:47.595022Z"
    }
   },
   "id": "8b59b0aa66028816"
  },
  {
   "cell_type": "code",
   "execution_count": 16,
   "outputs": [],
   "source": [
    "X_new = X_test[:3]"
   ],
   "metadata": {
    "collapsed": false,
    "ExecuteTime": {
     "end_time": "2023-07-30T13:59:18.440198Z",
     "start_time": "2023-07-30T13:59:18.410547Z"
    }
   },
   "id": "f63abb0fc1f96f56"
  },
  {
   "cell_type": "code",
   "execution_count": 17,
   "id": "initial_id",
   "metadata": {
    "collapsed": true,
    "ExecuteTime": {
     "end_time": "2023-07-30T13:59:18.607119Z",
     "start_time": "2023-07-30T13:59:18.574802Z"
    }
   },
   "outputs": [],
   "source": [
    "input_ = keras.layers.Input(shape=X_train.shape[1:])\n",
    "hidden1 = keras.layers.Dense(30, activation=\"relu\")(input_)\n",
    "hidden2 = keras.layers.Dense(30, activation=\"relu\")(hidden1)\n",
    "concat = keras.layers.Concatenate()([input_, hidden2])\n",
    "output = keras.layers.Dense(1)(concat)\n",
    "model = keras.Model(inputs=[input_], outputs=[output])"
   ]
  },
  {
   "cell_type": "code",
   "execution_count": 18,
   "outputs": [
    {
     "name": "stdout",
     "output_type": "stream",
     "text": [
      "Model: \"model_1\"\n",
      "__________________________________________________________________________________________________\n",
      " Layer (type)                Output Shape                 Param #   Connected to                  \n",
      "==================================================================================================\n",
      " input_2 (InputLayer)        [(None, 8)]                  0         []                            \n",
      "                                                                                                  \n",
      " dense_7 (Dense)             (None, 30)                   270       ['input_2[0][0]']             \n",
      "                                                                                                  \n",
      " dense_8 (Dense)             (None, 30)                   930       ['dense_7[0][0]']             \n",
      "                                                                                                  \n",
      " concatenate_1 (Concatenate  (None, 38)                   0         ['input_2[0][0]',             \n",
      " )                                                                   'dense_8[0][0]']             \n",
      "                                                                                                  \n",
      " dense_9 (Dense)             (None, 1)                    39        ['concatenate_1[0][0]']       \n",
      "                                                                                                  \n",
      "==================================================================================================\n",
      "Total params: 1239 (4.84 KB)\n",
      "Trainable params: 1239 (4.84 KB)\n",
      "Non-trainable params: 0 (0.00 Byte)\n",
      "__________________________________________________________________________________________________\n"
     ]
    }
   ],
   "source": [
    "model.summary()"
   ],
   "metadata": {
    "collapsed": false,
    "ExecuteTime": {
     "end_time": "2023-07-30T13:59:18.798112Z",
     "start_time": "2023-07-30T13:59:18.783338Z"
    }
   },
   "id": "5391c414aaf69b28"
  },
  {
   "cell_type": "code",
   "execution_count": 19,
   "outputs": [
    {
     "name": "stderr",
     "output_type": "stream",
     "text": [
      "WARNING:absl:At this time, the v2.11+ optimizer `tf.keras.optimizers.SGD` runs slowly on M1/M2 Macs, please use the legacy Keras optimizer instead, located at `tf.keras.optimizers.legacy.SGD`.\n",
      "WARNING:absl:There is a known slowdown when using v2.11+ Keras optimizers on M1/M2 Macs. Falling back to the legacy Keras optimizer, i.e., `tf.keras.optimizers.legacy.SGD`.\n"
     ]
    },
    {
     "name": "stdout",
     "output_type": "stream",
     "text": [
      "Epoch 1/20\n",
      "363/363 [==============================] - 0s 574us/step - loss: 1.9430 - val_loss: 0.9191\n",
      "Epoch 2/20\n",
      "363/363 [==============================] - 0s 444us/step - loss: 0.8670 - val_loss: 0.7768\n",
      "Epoch 3/20\n",
      "363/363 [==============================] - 0s 430us/step - loss: 0.7465 - val_loss: 0.6985\n",
      "Epoch 4/20\n",
      "363/363 [==============================] - 0s 454us/step - loss: 0.6730 - val_loss: 0.6586\n",
      "Epoch 5/20\n",
      "363/363 [==============================] - 0s 452us/step - loss: 0.6340 - val_loss: 0.6272\n",
      "Epoch 6/20\n",
      "363/363 [==============================] - 0s 474us/step - loss: 0.6044 - val_loss: 0.6047\n",
      "Epoch 7/20\n",
      "363/363 [==============================] - 0s 461us/step - loss: 0.5819 - val_loss: 0.5827\n",
      "Epoch 8/20\n",
      "363/363 [==============================] - 0s 446us/step - loss: 0.5628 - val_loss: 0.5672\n",
      "Epoch 9/20\n",
      "363/363 [==============================] - 0s 448us/step - loss: 0.5484 - val_loss: 0.5543\n",
      "Epoch 10/20\n",
      "363/363 [==============================] - 0s 432us/step - loss: 0.5362 - val_loss: 0.5437\n",
      "Epoch 11/20\n",
      "363/363 [==============================] - 0s 429us/step - loss: 0.5251 - val_loss: 0.5352\n",
      "Epoch 12/20\n",
      "363/363 [==============================] - 0s 449us/step - loss: 0.5166 - val_loss: 0.5272\n",
      "Epoch 13/20\n",
      "363/363 [==============================] - 0s 434us/step - loss: 0.5085 - val_loss: 0.5195\n",
      "Epoch 14/20\n",
      "363/363 [==============================] - 0s 452us/step - loss: 0.5016 - val_loss: 0.5139\n",
      "Epoch 15/20\n",
      "363/363 [==============================] - 0s 429us/step - loss: 0.4953 - val_loss: 0.5100\n",
      "Epoch 16/20\n",
      "363/363 [==============================] - 0s 438us/step - loss: 0.4904 - val_loss: 0.5039\n",
      "Epoch 17/20\n",
      "363/363 [==============================] - 0s 428us/step - loss: 0.4851 - val_loss: 0.5014\n",
      "Epoch 18/20\n",
      "363/363 [==============================] - 0s 428us/step - loss: 0.4814 - val_loss: 0.4968\n",
      "Epoch 19/20\n",
      "363/363 [==============================] - 0s 431us/step - loss: 0.4771 - val_loss: 0.4933\n",
      "Epoch 20/20\n",
      "363/363 [==============================] - 0s 431us/step - loss: 0.4733 - val_loss: 0.4909\n",
      "162/162 [==============================] - 0s 289us/step - loss: 0.4831\n",
      "1/1 [==============================] - 0s 20ms/step\n"
     ]
    }
   ],
   "source": [
    "model.compile(loss=\"mean_squared_error\", optimizer=keras.optimizers.SGD(learning_rate=1e-3))\n",
    "history = model.fit(X_train, y_train, epochs=20,\n",
    "                    validation_data=(X_valid, y_valid))\n",
    "mse_test = model.evaluate(X_test, y_test)\n",
    "y_pred = model.predict(X_new)"
   ],
   "metadata": {
    "collapsed": false,
    "ExecuteTime": {
     "end_time": "2023-07-30T14:00:16.344550Z",
     "start_time": "2023-07-30T14:00:12.785407Z"
    }
   },
   "id": "86c644b015aaceec"
  },
  {
   "cell_type": "code",
   "execution_count": 20,
   "outputs": [
    {
     "data": {
      "text/plain": "array([[0.7401556],\n       [1.4516754],\n       [2.7926033]], dtype=float32)"
     },
     "execution_count": 20,
     "metadata": {},
     "output_type": "execute_result"
    }
   ],
   "source": [
    "y_pred"
   ],
   "metadata": {
    "collapsed": false,
    "ExecuteTime": {
     "end_time": "2023-07-30T14:00:28.605163Z",
     "start_time": "2023-07-30T14:00:28.587698Z"
    }
   },
   "id": "87c92d6faad76eaa"
  },
  {
   "cell_type": "markdown",
   "source": [
    "와이드나 딥 경로에 다른 입력 특성을 전달하면 어떻게 될까요? (특성 0에서 4까지) 5개의 특성을 와이드 경로에 보내고 (특성 2에서 7까지) 6개의 특성을 딥 경로에 전달하겠습니다. 3개의 특성(특성 2, 3, 4)은 양쪽에 모두 전달됩니다."
   ],
   "metadata": {
    "collapsed": false
   },
   "id": "1bbe016f3ed160d"
  },
  {
   "cell_type": "code",
   "execution_count": 23,
   "outputs": [],
   "source": [
    "np.random.seed(42)\n",
    "tf.random.set_seed(42)"
   ],
   "metadata": {
    "collapsed": false,
    "ExecuteTime": {
     "end_time": "2023-07-30T15:33:25.881842Z",
     "start_time": "2023-07-30T15:33:25.880070Z"
    }
   },
   "id": "8891cbae2cf81d06"
  },
  {
   "cell_type": "code",
   "execution_count": 25,
   "outputs": [],
   "source": [
    "input_A = keras.layers.Input(shape=[5], name=\"wide_input\")\n",
    "input_B = keras.layers.Input(shape=[6], name=\"deep_input\")\n",
    "hidden1 = keras.layers.Dense(30, activation=\"relu\")(input_B)\n",
    "hidden2 = keras.layers.Dense(30, activation=\"relu\")(hidden1)\n",
    "concat = keras.layers.concatenate([input_A, hidden2])\n",
    "output = keras.layers.Dense(1, name=\"output\")(concat)\n",
    "model = keras.Model(inputs=[input_A, input_B], outputs=[output])"
   ],
   "metadata": {
    "collapsed": false,
    "ExecuteTime": {
     "end_time": "2023-07-30T15:33:36.374517Z",
     "start_time": "2023-07-30T15:33:36.350644Z"
    }
   },
   "id": "11a1fc2f51362c2c"
  },
  {
   "cell_type": "code",
   "execution_count": 26,
   "outputs": [
    {
     "name": "stderr",
     "output_type": "stream",
     "text": [
      "WARNING:absl:At this time, the v2.11+ optimizer `tf.keras.optimizers.SGD` runs slowly on M1/M2 Macs, please use the legacy Keras optimizer instead, located at `tf.keras.optimizers.legacy.SGD`.\n",
      "WARNING:absl:There is a known slowdown when using v2.11+ Keras optimizers on M1/M2 Macs. Falling back to the legacy Keras optimizer, i.e., `tf.keras.optimizers.legacy.SGD`.\n"
     ]
    },
    {
     "name": "stdout",
     "output_type": "stream",
     "text": [
      "Epoch 1/20\n",
      "363/363 [==============================] - 0s 618us/step - loss: 1.9893 - val_loss: 0.9051\n",
      "Epoch 2/20\n",
      "363/363 [==============================] - 0s 442us/step - loss: 0.7966 - val_loss: 0.7065\n",
      "Epoch 3/20\n",
      "363/363 [==============================] - 0s 453us/step - loss: 0.6626 - val_loss: 0.6378\n",
      "Epoch 4/20\n",
      "363/363 [==============================] - 0s 654us/step - loss: 0.6091 - val_loss: 0.6033\n",
      "Epoch 5/20\n",
      "363/363 [==============================] - 0s 454us/step - loss: 0.5792 - val_loss: 0.5793\n",
      "Epoch 6/20\n",
      "363/363 [==============================] - 0s 455us/step - loss: 0.5597 - val_loss: 0.5671\n",
      "Epoch 7/20\n",
      "363/363 [==============================] - 0s 541us/step - loss: 0.5459 - val_loss: 0.5515\n",
      "Epoch 8/20\n",
      "363/363 [==============================] - 0s 508us/step - loss: 0.5349 - val_loss: 0.5418\n",
      "Epoch 9/20\n",
      "363/363 [==============================] - 0s 462us/step - loss: 0.5265 - val_loss: 0.5352\n",
      "Epoch 10/20\n",
      "363/363 [==============================] - 0s 447us/step - loss: 0.5200 - val_loss: 0.5304\n",
      "Epoch 11/20\n",
      "363/363 [==============================] - 0s 473us/step - loss: 0.5139 - val_loss: 0.5244\n",
      "Epoch 12/20\n",
      "363/363 [==============================] - 0s 639us/step - loss: 0.5089 - val_loss: 0.5177\n",
      "Epoch 13/20\n",
      "363/363 [==============================] - 0s 465us/step - loss: 0.5046 - val_loss: 0.5141\n",
      "Epoch 14/20\n",
      "363/363 [==============================] - 0s 451us/step - loss: 0.5011 - val_loss: 0.5097\n",
      "Epoch 15/20\n",
      "363/363 [==============================] - 0s 456us/step - loss: 0.4973 - val_loss: 0.5077\n",
      "Epoch 16/20\n",
      "363/363 [==============================] - 0s 445us/step - loss: 0.4945 - val_loss: 0.5052\n",
      "Epoch 17/20\n",
      "363/363 [==============================] - 0s 449us/step - loss: 0.4912 - val_loss: 0.5033\n",
      "Epoch 18/20\n",
      "363/363 [==============================] - 0s 447us/step - loss: 0.4886 - val_loss: 0.4986\n",
      "Epoch 19/20\n",
      "363/363 [==============================] - 0s 477us/step - loss: 0.4860 - val_loss: 0.4979\n",
      "Epoch 20/20\n",
      "363/363 [==============================] - 0s 458us/step - loss: 0.4834 - val_loss: 0.4958\n",
      "162/162 [==============================] - 0s 294us/step - loss: 0.4997\n",
      "1/1 [==============================] - 0s 21ms/step\n"
     ]
    }
   ],
   "source": [
    "model.compile(loss=\"mse\", optimizer=keras.optimizers.SGD(learning_rate=1e-3))\n",
    "\n",
    "X_train_A, X_train_B = X_train[:, :5], X_train[:, 2:]\n",
    "X_valid_A, X_valid_B = X_valid[:, :5], X_valid[:, 2:]\n",
    "X_test_A, X_test_B = X_test[:, :5], X_test[:, 2:]\n",
    "X_new_A, X_new_B = X_test_A[:3], X_test_B[:3]\n",
    "\n",
    "history = model.fit((X_train_A, X_train_B), y_train, epochs=20,\n",
    "                    validation_data=((X_valid_A, X_valid_B), y_valid))\n",
    "# history = model.fit({\"wide_input\": X_train_A, \"deep_input\": X_train_B}, y_train, epochs=20, validation_data=({\"wide_input\": X_valid_A, \"deep_input\": X_valid_B}, y_valid))\n",
    "# 딕셔너리 형태로 명시해줄 수 있음\n",
    "\n",
    "mse_test = model.evaluate((X_test_A, X_test_B), y_test)\n",
    "y_pred = model.predict((X_new_A, X_new_B))"
   ],
   "metadata": {
    "collapsed": false,
    "ExecuteTime": {
     "end_time": "2023-07-30T15:33:56.444884Z",
     "start_time": "2023-07-30T15:33:52.497415Z"
    }
   },
   "id": "9e2fb214f538c594"
  },
  {
   "cell_type": "code",
   "execution_count": 27,
   "outputs": [
    {
     "data": {
      "text/plain": "array([[0.61095685],\n       [1.7675967 ],\n       [2.980628  ]], dtype=float32)"
     },
     "execution_count": 27,
     "metadata": {},
     "output_type": "execute_result"
    }
   ],
   "source": [
    "y_pred"
   ],
   "metadata": {
    "collapsed": false,
    "ExecuteTime": {
     "end_time": "2023-07-30T15:33:57.643495Z",
     "start_time": "2023-07-30T15:33:57.616409Z"
    }
   },
   "id": "c6f379e267386b0b"
  },
  {
   "cell_type": "markdown",
   "source": [
    "### 출력이 여러 개 필요할 때\n",
    "- 동일한 데이터에서 독립적인 여러 작업을 수행할 때\n",
    "- 규제 기법으로 사용하는 경우"
   ],
   "metadata": {
    "collapsed": false
   },
   "id": "e286f0b517d9e75e"
  },
  {
   "cell_type": "code",
   "execution_count": 28,
   "outputs": [],
   "source": [
    "input_A = keras.layers.Input(shape=[5], name=\"wide_input\")\n",
    "input_B = keras.layers.Input(shape=[6], name=\"deep_input\")\n",
    "hidden1 = keras.layers.Dense(30, activation=\"relu\")(input_B)\n",
    "hidden2 = keras.layers.Dense(30, activation=\"relu\")(hidden1)\n",
    "concat = keras.layers.concatenate([input_A, hidden2])\n",
    "output = keras.layers.Dense(1, name=\"main_output\")(concat)\n",
    "aux_output = keras.layers.Dense(1, name=\"aux_output\")(hidden2)\n",
    "model = keras.models.Model(inputs=[input_A, input_B],\n",
    "                           outputs=[output, aux_output])"
   ],
   "metadata": {
    "collapsed": false,
    "ExecuteTime": {
     "end_time": "2023-07-30T16:06:53.025588Z",
     "start_time": "2023-07-30T16:06:52.996492Z"
    }
   },
   "id": "e9807b16050634c7"
  },
  {
   "cell_type": "code",
   "execution_count": 32,
   "outputs": [],
   "source": [
    "model.compile(loss=[\"mse\", \"mse\"], loss_weights=[0.9, 0.1], optimizer=tf.keras.optimizers.legacy.SGD(learning_rate=1e-3))"
   ],
   "metadata": {
    "collapsed": false,
    "ExecuteTime": {
     "end_time": "2023-07-30T16:08:51.793818Z",
     "start_time": "2023-07-30T16:08:51.749510Z"
    }
   },
   "id": "220fd98dda6fd003"
  },
  {
   "cell_type": "code",
   "execution_count": 33,
   "outputs": [
    {
     "name": "stdout",
     "output_type": "stream",
     "text": [
      "Epoch 1/20\n",
      "363/363 [==============================] - 1s 846us/step - loss: 2.6756 - main_output_loss: 2.4743 - aux_output_loss: 4.4875 - val_loss: 1.2355 - val_main_output_loss: 0.9947 - val_aux_output_loss: 3.4023\n",
      "Epoch 2/20\n",
      "363/363 [==============================] - 0s 528us/step - loss: 0.9995 - main_output_loss: 0.8040 - aux_output_loss: 2.7587 - val_loss: 0.8584 - val_main_output_loss: 0.7007 - val_aux_output_loss: 2.2770\n",
      "Epoch 3/20\n",
      "363/363 [==============================] - 0s 517us/step - loss: 0.8018 - main_output_loss: 0.6715 - aux_output_loss: 1.9742 - val_loss: 0.7600 - val_main_output_loss: 0.6484 - val_aux_output_loss: 1.7638\n",
      "Epoch 4/20\n",
      "363/363 [==============================] - 0s 526us/step - loss: 0.7283 - main_output_loss: 0.6313 - aux_output_loss: 1.6012 - val_loss: 0.7103 - val_main_output_loss: 0.6239 - val_aux_output_loss: 1.4881\n",
      "Epoch 5/20\n",
      "363/363 [==============================] - 0s 532us/step - loss: 0.6871 - main_output_loss: 0.6087 - aux_output_loss: 1.3925 - val_loss: 0.6775 - val_main_output_loss: 0.6051 - val_aux_output_loss: 1.3287\n",
      "Epoch 6/20\n",
      "363/363 [==============================] - 0s 531us/step - loss: 0.6591 - main_output_loss: 0.5915 - aux_output_loss: 1.2681 - val_loss: 0.6553 - val_main_output_loss: 0.5919 - val_aux_output_loss: 1.2258\n",
      "Epoch 7/20\n",
      "363/363 [==============================] - 0s 520us/step - loss: 0.6387 - main_output_loss: 0.5782 - aux_output_loss: 1.1838 - val_loss: 0.6377 - val_main_output_loss: 0.5807 - val_aux_output_loss: 1.1502\n",
      "Epoch 8/20\n",
      "363/363 [==============================] - 0s 519us/step - loss: 0.6227 - main_output_loss: 0.5672 - aux_output_loss: 1.1223 - val_loss: 0.6237 - val_main_output_loss: 0.5712 - val_aux_output_loss: 1.0958\n",
      "Epoch 9/20\n",
      "363/363 [==============================] - 0s 542us/step - loss: 0.6096 - main_output_loss: 0.5580 - aux_output_loss: 1.0748 - val_loss: 0.6123 - val_main_output_loss: 0.5631 - val_aux_output_loss: 1.0544\n",
      "Epoch 10/20\n",
      "363/363 [==============================] - 0s 527us/step - loss: 0.5991 - main_output_loss: 0.5503 - aux_output_loss: 1.0377 - val_loss: 0.6026 - val_main_output_loss: 0.5560 - val_aux_output_loss: 1.0219\n",
      "Epoch 11/20\n",
      "363/363 [==============================] - 0s 588us/step - loss: 0.5898 - main_output_loss: 0.5434 - aux_output_loss: 1.0077 - val_loss: 0.5946 - val_main_output_loss: 0.5500 - val_aux_output_loss: 0.9960\n",
      "Epoch 12/20\n",
      "363/363 [==============================] - 0s 517us/step - loss: 0.5820 - main_output_loss: 0.5375 - aux_output_loss: 0.9832 - val_loss: 0.5876 - val_main_output_loss: 0.5448 - val_aux_output_loss: 0.9733\n",
      "Epoch 13/20\n",
      "363/363 [==============================] - 0s 583us/step - loss: 0.5751 - main_output_loss: 0.5322 - aux_output_loss: 0.9616 - val_loss: 0.5812 - val_main_output_loss: 0.5397 - val_aux_output_loss: 0.9554\n",
      "Epoch 14/20\n",
      "363/363 [==============================] - 0s 540us/step - loss: 0.5693 - main_output_loss: 0.5276 - aux_output_loss: 0.9441 - val_loss: 0.5758 - val_main_output_loss: 0.5355 - val_aux_output_loss: 0.9384\n",
      "Epoch 15/20\n",
      "363/363 [==============================] - 0s 516us/step - loss: 0.5637 - main_output_loss: 0.5233 - aux_output_loss: 0.9276 - val_loss: 0.5718 - val_main_output_loss: 0.5327 - val_aux_output_loss: 0.9236\n",
      "Epoch 16/20\n",
      "363/363 [==============================] - 0s 540us/step - loss: 0.5593 - main_output_loss: 0.5200 - aux_output_loss: 0.9133 - val_loss: 0.5669 - val_main_output_loss: 0.5286 - val_aux_output_loss: 0.9112\n",
      "Epoch 17/20\n",
      "363/363 [==============================] - 0s 512us/step - loss: 0.5548 - main_output_loss: 0.5164 - aux_output_loss: 0.9009 - val_loss: 0.5638 - val_main_output_loss: 0.5265 - val_aux_output_loss: 0.8993\n",
      "Epoch 18/20\n",
      "363/363 [==============================] - 0s 521us/step - loss: 0.5512 - main_output_loss: 0.5136 - aux_output_loss: 0.8893 - val_loss: 0.5600 - val_main_output_loss: 0.5235 - val_aux_output_loss: 0.8885\n",
      "Epoch 19/20\n",
      "363/363 [==============================] - 0s 528us/step - loss: 0.5479 - main_output_loss: 0.5112 - aux_output_loss: 0.8786 - val_loss: 0.5566 - val_main_output_loss: 0.5207 - val_aux_output_loss: 0.8796\n",
      "Epoch 20/20\n",
      "363/363 [==============================] - 0s 534us/step - loss: 0.5446 - main_output_loss: 0.5085 - aux_output_loss: 0.8692 - val_loss: 0.5538 - val_main_output_loss: 0.5187 - val_aux_output_loss: 0.8699\n"
     ]
    }
   ],
   "source": [
    "history = model.fit([X_train_A, X_train_B], [y_train, y_train], epochs=20,\n",
    "                    validation_data=([X_valid_A, X_valid_B], [y_valid, y_valid]))"
   ],
   "metadata": {
    "collapsed": false,
    "ExecuteTime": {
     "end_time": "2023-07-30T16:09:10.891698Z",
     "start_time": "2023-07-30T16:09:06.566243Z"
    }
   },
   "id": "5bc7f1551b1f5a02"
  },
  {
   "cell_type": "code",
   "execution_count": 34,
   "outputs": [
    {
     "name": "stdout",
     "output_type": "stream",
     "text": [
      "162/162 [==============================] - 0s 396us/step - loss: 0.5469 - main_output_loss: 0.5145 - aux_output_loss: 0.8379\n",
      "WARNING:tensorflow:5 out of the last 5 calls to <function Model.make_predict_function.<locals>.predict_function at 0x1496c09d0> triggered tf.function retracing. Tracing is expensive and the excessive number of tracings could be due to (1) creating @tf.function repeatedly in a loop, (2) passing tensors with different shapes, (3) passing Python objects instead of tensors. For (1), please define your @tf.function outside of the loop. For (2), @tf.function has reduce_retracing=True option that can avoid unnecessary retracing. For (3), please refer to https://www.tensorflow.org/guide/function#controlling_retracing and https://www.tensorflow.org/api_docs/python/tf/function for  more details.\n"
     ]
    },
    {
     "name": "stderr",
     "output_type": "stream",
     "text": [
      "WARNING:tensorflow:5 out of the last 5 calls to <function Model.make_predict_function.<locals>.predict_function at 0x1496c09d0> triggered tf.function retracing. Tracing is expensive and the excessive number of tracings could be due to (1) creating @tf.function repeatedly in a loop, (2) passing tensors with different shapes, (3) passing Python objects instead of tensors. For (1), please define your @tf.function outside of the loop. For (2), @tf.function has reduce_retracing=True option that can avoid unnecessary retracing. For (3), please refer to https://www.tensorflow.org/guide/function#controlling_retracing and https://www.tensorflow.org/api_docs/python/tf/function for  more details.\n"
     ]
    },
    {
     "name": "stdout",
     "output_type": "stream",
     "text": [
      "1/1 [==============================] - 0s 26ms/step\n"
     ]
    }
   ],
   "source": [
    "total_loss, main_loss, aux_loss = model.evaluate(\n",
    "    [X_test_A, X_test_B], [y_test, y_test])\n",
    "y_pred_main, y_pred_aux = model.predict([X_new_A, X_new_B])"
   ],
   "metadata": {
    "collapsed": false,
    "ExecuteTime": {
     "end_time": "2023-07-30T16:09:19.246202Z",
     "start_time": "2023-07-30T16:09:19.095189Z"
    }
   },
   "id": "1b8746d5a741e9a6"
  },
  {
   "cell_type": "code",
   "execution_count": 37,
   "outputs": [
    {
     "name": "stdout",
     "output_type": "stream",
     "text": [
      "[[0.7054903]\n",
      " [1.759553 ]\n",
      " [2.7266278]]\n",
      "\n",
      "[[1.1412153]\n",
      " [1.844955 ]\n",
      " [1.9123092]]\n"
     ]
    }
   ],
   "source": [
    "print(y_pred_main)\n",
    "print()\n",
    "print(y_pred_aux)"
   ],
   "metadata": {
    "collapsed": false,
    "ExecuteTime": {
     "end_time": "2023-07-30T16:11:29.420798Z",
     "start_time": "2023-07-30T16:11:29.413492Z"
    }
   },
   "id": "ac139ffa4cc32025"
  },
  {
   "cell_type": "markdown",
   "source": [
    "## Subclassing API 로 동적 모델 만들기"
   ],
   "metadata": {
    "collapsed": false
   },
   "id": "8170967a402e8978"
  },
  {
   "cell_type": "code",
   "execution_count": 38,
   "outputs": [],
   "source": [
    "class WideAndDeepModel(keras.models.Model):\n",
    "    def __init__(self, units=30, activation=\"relu\", **kwargs):\n",
    "        super().__init__(**kwargs) # 표준 매개변수 처리 (예를 들면, name)\n",
    "        self.hidden1 = keras.layers.Dense(units, activation=activation)\n",
    "        self.hidden2 = keras.layers.Dense(units, activation=activation)\n",
    "        self.main_output = keras.layers.Dense(1)\n",
    "        self.aux_output = keras.layers.Dense(1)\n",
    "        \n",
    "    def call(self, inputs):\n",
    "        input_A, input_B = inputs\n",
    "        hidden1 = self.hidden1(input_B)\n",
    "        hidden2 = self.hidden2(hidden1)\n",
    "        concat = keras.layers.concatenate([input_A, hidden2])\n",
    "        main_output = self.main_output(concat)\n",
    "        aux_output = self.aux_output(hidden2)\n",
    "        return main_output, aux_output\n",
    "    \n",
    "model = WideAndDeepModel(30, activation=\"relu\")"
   ],
   "metadata": {
    "collapsed": false,
    "ExecuteTime": {
     "end_time": "2023-07-31T10:46:40.532402Z",
     "start_time": "2023-07-31T10:46:40.303211Z"
    }
   },
   "id": "5adfde37d5b899cb"
  },
  {
   "cell_type": "code",
   "execution_count": 40,
   "outputs": [
    {
     "name": "stderr",
     "output_type": "stream",
     "text": [
      "WARNING:absl:At this time, the v2.11+ optimizer `tf.keras.optimizers.SGD` runs slowly on M1/M2 Macs, please use the legacy Keras optimizer instead, located at `tf.keras.optimizers.legacy.SGD`.\n",
      "WARNING:absl:There is a known slowdown when using v2.11+ Keras optimizers on M1/M2 Macs. Falling back to the legacy Keras optimizer, i.e., `tf.keras.optimizers.legacy.SGD`.\n"
     ]
    },
    {
     "name": "stdout",
     "output_type": "stream",
     "text": [
      "Epoch 1/10\n",
      "363/363 [==============================] - 0s 802us/step - loss: 2.6636 - output_1_loss: 2.4449 - output_2_loss: 4.6319 - val_loss: 1.3895 - val_output_1_loss: 1.0941 - val_output_2_loss: 4.0486\n",
      "Epoch 2/10\n",
      "363/363 [==============================] - 0s 679us/step - loss: 1.2109 - output_1_loss: 0.9581 - output_2_loss: 3.4868 - val_loss: 0.9503 - val_output_1_loss: 0.7230 - val_output_2_loss: 2.9959\n",
      "Epoch 3/10\n",
      "363/363 [==============================] - 0s 513us/step - loss: 0.8798 - output_1_loss: 0.6872 - output_2_loss: 2.6131 - val_loss: 0.8399 - val_output_1_loss: 0.6716 - val_output_2_loss: 2.3545\n",
      "Epoch 4/10\n",
      "363/363 [==============================] - 0s 518us/step - loss: 0.7979 - output_1_loss: 0.6514 - output_2_loss: 2.1161 - val_loss: 0.7799 - val_output_1_loss: 0.6484 - val_output_2_loss: 1.9631\n",
      "Epoch 5/10\n",
      "363/363 [==============================] - 0s 529us/step - loss: 0.7453 - output_1_loss: 0.6279 - output_2_loss: 1.8017 - val_loss: 0.7381 - val_output_1_loss: 0.6295 - val_output_2_loss: 1.7153\n",
      "Epoch 6/10\n",
      "363/363 [==============================] - 0s 526us/step - loss: 0.7084 - output_1_loss: 0.6089 - output_2_loss: 1.6038 - val_loss: 0.7079 - val_output_1_loss: 0.6139 - val_output_2_loss: 1.5538\n",
      "Epoch 7/10\n",
      "363/363 [==============================] - 0s 507us/step - loss: 0.6811 - output_1_loss: 0.5932 - output_2_loss: 1.4720 - val_loss: 0.6855 - val_output_1_loss: 0.6013 - val_output_2_loss: 1.4434\n",
      "Epoch 8/10\n",
      "363/363 [==============================] - 0s 518us/step - loss: 0.6596 - output_1_loss: 0.5798 - output_2_loss: 1.3782 - val_loss: 0.6668 - val_output_1_loss: 0.5898 - val_output_2_loss: 1.3593\n",
      "Epoch 9/10\n",
      "363/363 [==============================] - 0s 511us/step - loss: 0.6421 - output_1_loss: 0.5685 - output_2_loss: 1.3040 - val_loss: 0.6515 - val_output_1_loss: 0.5799 - val_output_2_loss: 1.2958\n",
      "Epoch 10/10\n",
      "363/363 [==============================] - 0s 517us/step - loss: 0.6274 - output_1_loss: 0.5586 - output_2_loss: 1.2470 - val_loss: 0.6384 - val_output_1_loss: 0.5710 - val_output_2_loss: 1.2455\n",
      "162/162 [==============================] - 0s 360us/step - loss: 0.6251 - output_1_loss: 0.5627 - output_2_loss: 1.1864\n",
      "WARNING:tensorflow:6 out of the last 6 calls to <function Model.make_predict_function.<locals>.predict_function at 0x14a3db880> triggered tf.function retracing. Tracing is expensive and the excessive number of tracings could be due to (1) creating @tf.function repeatedly in a loop, (2) passing tensors with different shapes, (3) passing Python objects instead of tensors. For (1), please define your @tf.function outside of the loop. For (2), @tf.function has reduce_retracing=True option that can avoid unnecessary retracing. For (3), please refer to https://www.tensorflow.org/guide/function#controlling_retracing and https://www.tensorflow.org/api_docs/python/tf/function for  more details.\n"
     ]
    },
    {
     "name": "stderr",
     "output_type": "stream",
     "text": [
      "WARNING:tensorflow:6 out of the last 6 calls to <function Model.make_predict_function.<locals>.predict_function at 0x14a3db880> triggered tf.function retracing. Tracing is expensive and the excessive number of tracings could be due to (1) creating @tf.function repeatedly in a loop, (2) passing tensors with different shapes, (3) passing Python objects instead of tensors. For (1), please define your @tf.function outside of the loop. For (2), @tf.function has reduce_retracing=True option that can avoid unnecessary retracing. For (3), please refer to https://www.tensorflow.org/guide/function#controlling_retracing and https://www.tensorflow.org/api_docs/python/tf/function for  more details.\n"
     ]
    },
    {
     "name": "stdout",
     "output_type": "stream",
     "text": [
      "1/1 [==============================] - 0s 25ms/step\n"
     ]
    }
   ],
   "source": [
    "model.compile(loss=\"mse\", loss_weights=[0.9, 0.1], optimizer=keras.optimizers.SGD(learning_rate=1e-3))\n",
    "history = model.fit((X_train_A, X_train_B), (y_train, y_train), epochs=10,\n",
    "                    validation_data=((X_valid_A, X_valid_B), (y_valid, y_valid)))\n",
    "total_loss, main_loss, aux_loss = model.evaluate((X_test_A, X_test_B), (y_test, y_test))\n",
    "y_pred_main, y_pred_aux = model.predict((X_new_A, X_new_B))"
   ],
   "metadata": {
    "collapsed": false,
    "ExecuteTime": {
     "end_time": "2023-07-31T10:48:27.141228Z",
     "start_time": "2023-07-31T10:48:24.733733Z"
    }
   },
   "id": "d5d6b7f32f6b3b7b"
  },
  {
   "cell_type": "markdown",
   "source": [
    "### 모델 저장과 복원"
   ],
   "metadata": {
    "collapsed": false
   },
   "id": "e965d976aad580f6"
  },
  {
   "cell_type": "code",
   "execution_count": 41,
   "outputs": [],
   "source": [
    "model = keras.models.Sequential([\n",
    "    keras.layers.Dense(30, activation=\"relu\", input_shape=[8]),\n",
    "    keras.layers.Dense(30, activation=\"relu\"),\n",
    "    keras.layers.Dense(1)\n",
    "]) "
   ],
   "metadata": {
    "collapsed": false,
    "ExecuteTime": {
     "end_time": "2023-07-31T11:04:22.759168Z",
     "start_time": "2023-07-31T11:04:22.039454Z"
    }
   },
   "id": "aeedbd2889e7d490"
  },
  {
   "cell_type": "code",
   "execution_count": 42,
   "outputs": [
    {
     "name": "stderr",
     "output_type": "stream",
     "text": [
      "WARNING:absl:At this time, the v2.11+ optimizer `tf.keras.optimizers.SGD` runs slowly on M1/M2 Macs, please use the legacy Keras optimizer instead, located at `tf.keras.optimizers.legacy.SGD`.\n",
      "WARNING:absl:There is a known slowdown when using v2.11+ Keras optimizers on M1/M2 Macs. Falling back to the legacy Keras optimizer, i.e., `tf.keras.optimizers.legacy.SGD`.\n"
     ]
    },
    {
     "name": "stdout",
     "output_type": "stream",
     "text": [
      "Epoch 1/10\n",
      "363/363 [==============================] - 0s 585us/step - loss: 1.9216 - val_loss: 0.9798\n",
      "Epoch 2/10\n",
      "363/363 [==============================] - 0s 640us/step - loss: 0.8279 - val_loss: 0.7546\n",
      "Epoch 3/10\n",
      "363/363 [==============================] - 0s 471us/step - loss: 0.7092 - val_loss: 0.6915\n",
      "Epoch 4/10\n",
      "363/363 [==============================] - 0s 454us/step - loss: 0.6562 - val_loss: 0.6509\n",
      "Epoch 5/10\n",
      "363/363 [==============================] - 0s 452us/step - loss: 0.6244 - val_loss: 0.6153\n",
      "Epoch 6/10\n",
      "363/363 [==============================] - 0s 449us/step - loss: 0.5874 - val_loss: 0.5851\n",
      "Epoch 7/10\n",
      "363/363 [==============================] - 0s 433us/step - loss: 0.5595 - val_loss: 0.5620\n",
      "Epoch 8/10\n",
      "363/363 [==============================] - 0s 490us/step - loss: 0.5374 - val_loss: 0.5425\n",
      "Epoch 9/10\n",
      "363/363 [==============================] - 0s 463us/step - loss: 0.5211 - val_loss: 0.5255\n",
      "Epoch 10/10\n",
      "363/363 [==============================] - 0s 481us/step - loss: 0.5051 - val_loss: 0.5122\n",
      "162/162 [==============================] - 0s 310us/step - loss: 0.5026\n"
     ]
    }
   ],
   "source": [
    "model.compile(loss=\"mse\", optimizer=keras.optimizers.SGD(learning_rate=1e-3))\n",
    "history = model.fit(X_train, y_train, epochs=10, validation_data=(X_valid, y_valid))\n",
    "mse_test = model.evaluate(X_test, y_test)"
   ],
   "metadata": {
    "collapsed": false,
    "ExecuteTime": {
     "end_time": "2023-07-31T11:04:30.925683Z",
     "start_time": "2023-07-31T11:04:28.866592Z"
    }
   },
   "id": "b918de82760e6fb7"
  },
  {
   "cell_type": "code",
   "execution_count": 43,
   "outputs": [
    {
     "name": "stderr",
     "output_type": "stream",
     "text": [
      "/Users/ldywin/PycharmProjects/MLDLPractice/venv/lib/python3.10/site-packages/keras/src/engine/training.py:3000: UserWarning: You are saving your model as an HDF5 file via `model.save()`. This file format is considered legacy. We recommend using instead the native Keras format, e.g. `model.save('my_model.keras')`.\n",
      "  saving_api.save_model(\n"
     ]
    }
   ],
   "source": [
    "model.save(\"my_keras_model.h5\")"
   ],
   "metadata": {
    "collapsed": false,
    "ExecuteTime": {
     "end_time": "2023-07-31T11:16:37.916950Z",
     "start_time": "2023-07-31T11:16:37.842649Z"
    }
   },
   "id": "3fd2eecefa8aeb14"
  },
  {
   "cell_type": "code",
   "execution_count": 44,
   "outputs": [],
   "source": [
    "model = keras.models.load_model(\"my_keras_model.h5\")"
   ],
   "metadata": {
    "collapsed": false,
    "ExecuteTime": {
     "end_time": "2023-07-31T11:17:09.208877Z",
     "start_time": "2023-07-31T11:17:09.137077Z"
    }
   },
   "id": "83012383f20a992"
  },
  {
   "cell_type": "code",
   "execution_count": 45,
   "outputs": [
    {
     "name": "stdout",
     "output_type": "stream",
     "text": [
      "1/1 [==============================] - 0s 26ms/step\n"
     ]
    },
    {
     "data": {
      "text/plain": "array([[0.7380551],\n       [1.3488903],\n       [2.8796465]], dtype=float32)"
     },
     "execution_count": 45,
     "metadata": {},
     "output_type": "execute_result"
    }
   ],
   "source": [
    "model.predict(X_new)"
   ],
   "metadata": {
    "collapsed": false,
    "ExecuteTime": {
     "end_time": "2023-07-31T11:17:14.440766Z",
     "start_time": "2023-07-31T11:17:14.386482Z"
    }
   },
   "id": "58a5e947b63d9d33"
  },
  {
   "cell_type": "code",
   "execution_count": 46,
   "outputs": [],
   "source": [
    "model.save_weights(\"my_keras_weights.ckpt\")"
   ],
   "metadata": {
    "collapsed": false,
    "ExecuteTime": {
     "end_time": "2023-07-31T11:26:35.879689Z",
     "start_time": "2023-07-31T11:26:35.808292Z"
    }
   },
   "id": "2b9791f7a2b1a71c"
  },
  {
   "cell_type": "code",
   "execution_count": 47,
   "outputs": [
    {
     "data": {
      "text/plain": "<tensorflow.python.checkpoint.checkpoint.CheckpointLoadStatus at 0x14a49c160>"
     },
     "execution_count": 47,
     "metadata": {},
     "output_type": "execute_result"
    }
   ],
   "source": [
    "model.load_weights(\"my_keras_weights.ckpt\")"
   ],
   "metadata": {
    "collapsed": false,
    "ExecuteTime": {
     "end_time": "2023-07-31T11:26:47.558512Z",
     "start_time": "2023-07-31T11:26:47.547494Z"
    }
   },
   "id": "6787d0cf48fbfd94"
  },
  {
   "cell_type": "markdown",
   "source": [
    "### Using callback during fit()"
   ],
   "metadata": {
    "collapsed": false
   },
   "id": "79cdc37bc1a25ff1"
  },
  {
   "cell_type": "code",
   "execution_count": 48,
   "outputs": [],
   "source": [
    "keras.backend.clear_session()\n",
    "np.random.seed(42)\n",
    "tf.random.set_seed(42)"
   ],
   "metadata": {
    "collapsed": false,
    "ExecuteTime": {
     "end_time": "2023-07-31T11:35:55.362766Z",
     "start_time": "2023-07-31T11:35:55.312012Z"
    }
   },
   "id": "1f3398a109ea5cdb"
  },
  {
   "cell_type": "code",
   "execution_count": 49,
   "outputs": [],
   "source": [
    "model = keras.models.Sequential([\n",
    "    keras.layers.Dense(30, activation=\"relu\", input_shape=[8]),\n",
    "    keras.layers.Dense(30, activation=\"relu\"),\n",
    "    keras.layers.Dense(1)\n",
    "])"
   ],
   "metadata": {
    "collapsed": false,
    "ExecuteTime": {
     "end_time": "2023-07-31T11:36:38.288730Z",
     "start_time": "2023-07-31T11:36:38.245033Z"
    }
   },
   "id": "da7fdeb26facb9ca"
  },
  {
   "cell_type": "code",
   "execution_count": 50,
   "outputs": [
    {
     "name": "stderr",
     "output_type": "stream",
     "text": [
      "WARNING:absl:At this time, the v2.11+ optimizer `tf.keras.optimizers.SGD` runs slowly on M1/M2 Macs, please use the legacy Keras optimizer instead, located at `tf.keras.optimizers.legacy.SGD`.\n",
      "WARNING:absl:There is a known slowdown when using v2.11+ Keras optimizers on M1/M2 Macs. Falling back to the legacy Keras optimizer, i.e., `tf.keras.optimizers.legacy.SGD`.\n"
     ]
    },
    {
     "name": "stdout",
     "output_type": "stream",
     "text": [
      "Epoch 1/10\n",
      "363/363 [==============================] - 0s 597us/step - loss: 2.3563 - val_loss: 1.0113\n",
      "Epoch 2/10\n",
      "363/363 [==============================] - 0s 439us/step - loss: 0.8437 - val_loss: 0.7195\n",
      "Epoch 3/10\n",
      "  1/363 [..............................] - ETA: 0s - loss: 0.7692"
     ]
    },
    {
     "name": "stderr",
     "output_type": "stream",
     "text": [
      "/Users/ldywin/PycharmProjects/MLDLPractice/venv/lib/python3.10/site-packages/keras/src/engine/training.py:3000: UserWarning: You are saving your model as an HDF5 file via `model.save()`. This file format is considered legacy. We recommend using instead the native Keras format, e.g. `model.save('my_model.keras')`.\n",
      "  saving_api.save_model(\n"
     ]
    },
    {
     "name": "stdout",
     "output_type": "stream",
     "text": [
      "363/363 [==============================] - 0s 452us/step - loss: 0.6750 - val_loss: 0.6589\n",
      "Epoch 4/10\n",
      "363/363 [==============================] - 0s 453us/step - loss: 0.6249 - val_loss: 0.6239\n",
      "Epoch 5/10\n",
      "363/363 [==============================] - 0s 449us/step - loss: 0.5917 - val_loss: 0.5946\n",
      "Epoch 6/10\n",
      "363/363 [==============================] - 0s 440us/step - loss: 0.5637 - val_loss: 0.5708\n",
      "Epoch 7/10\n",
      "363/363 [==============================] - 0s 470us/step - loss: 0.5406 - val_loss: 0.5490\n",
      "Epoch 8/10\n",
      "363/363 [==============================] - 0s 438us/step - loss: 0.5209 - val_loss: 0.5315\n",
      "Epoch 9/10\n",
      "363/363 [==============================] - 0s 445us/step - loss: 0.5049 - val_loss: 0.5175\n",
      "Epoch 10/10\n",
      "363/363 [==============================] - 0s 446us/step - loss: 0.4920 - val_loss: 0.5054\n",
      "162/162 [==============================] - 0s 304us/step - loss: 0.4918\n"
     ]
    }
   ],
   "source": [
    "model.compile(loss=\"mse\", optimizer=keras.optimizers.SGD(learning_rate=1e-3))\n",
    "checkpoint_cb = keras.callbacks.ModelCheckpoint(\"my_keras_model.h5\", save_best_only=True)\n",
    "history = model.fit(X_train, y_train, epochs=10,\n",
    "                    validation_data=(X_valid, y_valid),\n",
    "                    callbacks=[checkpoint_cb])\n",
    "model = keras.models.load_model(\"my_keras_model.h5\") # 최상의 모델로 롤백\n",
    "mse_test = model.evaluate(X_test, y_test)"
   ],
   "metadata": {
    "collapsed": false,
    "ExecuteTime": {
     "end_time": "2023-07-31T11:37:29.601103Z",
     "start_time": "2023-07-31T11:37:27.638423Z"
    }
   },
   "id": "f4638b2effa640fe"
  },
  {
   "cell_type": "code",
   "execution_count": 51,
   "outputs": [
    {
     "data": {
      "text/plain": "0.49176082015037537"
     },
     "execution_count": 51,
     "metadata": {},
     "output_type": "execute_result"
    }
   ],
   "source": [
    "mse_test"
   ],
   "metadata": {
    "collapsed": false,
    "ExecuteTime": {
     "end_time": "2023-07-31T11:37:32.188543Z",
     "start_time": "2023-07-31T11:37:32.168922Z"
    }
   },
   "id": "ce3978fa3a3c686b"
  },
  {
   "cell_type": "code",
   "execution_count": 52,
   "outputs": [
    {
     "name": "stderr",
     "output_type": "stream",
     "text": [
      "WARNING:absl:At this time, the v2.11+ optimizer `tf.keras.optimizers.SGD` runs slowly on M1/M2 Macs, please use the legacy Keras optimizer instead, located at `tf.keras.optimizers.legacy.SGD`.\n",
      "WARNING:absl:There is a known slowdown when using v2.11+ Keras optimizers on M1/M2 Macs. Falling back to the legacy Keras optimizer, i.e., `tf.keras.optimizers.legacy.SGD`.\n"
     ]
    },
    {
     "name": "stdout",
     "output_type": "stream",
     "text": [
      "Epoch 1/100\n",
      "363/363 [==============================] - 0s 605us/step - loss: 0.4811 - val_loss: 0.4970\n",
      "Epoch 2/100\n",
      "363/363 [==============================] - 0s 454us/step - loss: 0.4725 - val_loss: 0.4872\n",
      "Epoch 3/100\n",
      "363/363 [==============================] - 0s 461us/step - loss: 0.4655 - val_loss: 0.4813\n",
      "Epoch 4/100\n",
      "363/363 [==============================] - 0s 732us/step - loss: 0.4602 - val_loss: 0.4763\n",
      "Epoch 5/100\n",
      "363/363 [==============================] - 0s 459us/step - loss: 0.4555 - val_loss: 0.4710\n",
      "Epoch 6/100\n",
      "363/363 [==============================] - 0s 506us/step - loss: 0.4512 - val_loss: 0.4701\n",
      "Epoch 7/100\n",
      "363/363 [==============================] - 0s 470us/step - loss: 0.4482 - val_loss: 0.4639\n",
      "Epoch 8/100\n",
      "363/363 [==============================] - 0s 465us/step - loss: 0.4448 - val_loss: 0.4614\n",
      "Epoch 9/100\n",
      "363/363 [==============================] - 0s 463us/step - loss: 0.4421 - val_loss: 0.4588\n",
      "Epoch 10/100\n",
      "363/363 [==============================] - 0s 448us/step - loss: 0.4400 - val_loss: 0.4564\n",
      "Epoch 11/100\n",
      "363/363 [==============================] - 0s 437us/step - loss: 0.4375 - val_loss: 0.4548\n",
      "Epoch 12/100\n",
      "363/363 [==============================] - 0s 468us/step - loss: 0.4353 - val_loss: 0.4521\n",
      "Epoch 13/100\n",
      "363/363 [==============================] - 0s 503us/step - loss: 0.4336 - val_loss: 0.4497\n",
      "Epoch 14/100\n",
      "363/363 [==============================] - 0s 473us/step - loss: 0.4318 - val_loss: 0.4478\n",
      "Epoch 15/100\n",
      "363/363 [==============================] - 0s 426us/step - loss: 0.4296 - val_loss: 0.4484\n",
      "Epoch 16/100\n",
      "363/363 [==============================] - 0s 447us/step - loss: 0.4281 - val_loss: 0.4446\n",
      "Epoch 17/100\n",
      "363/363 [==============================] - 0s 473us/step - loss: 0.4260 - val_loss: 0.4453\n",
      "Epoch 18/100\n",
      "363/363 [==============================] - 0s 483us/step - loss: 0.4249 - val_loss: 0.4414\n",
      "Epoch 19/100\n",
      "363/363 [==============================] - 0s 526us/step - loss: 0.4229 - val_loss: 0.4414\n",
      "Epoch 20/100\n",
      "363/363 [==============================] - 0s 494us/step - loss: 0.4216 - val_loss: 0.4398\n",
      "Epoch 21/100\n",
      "363/363 [==============================] - 0s 468us/step - loss: 0.4202 - val_loss: 0.4367\n",
      "Epoch 22/100\n",
      "363/363 [==============================] - 0s 500us/step - loss: 0.4186 - val_loss: 0.4361\n",
      "Epoch 23/100\n",
      "363/363 [==============================] - 0s 489us/step - loss: 0.4166 - val_loss: 0.4337\n",
      "Epoch 24/100\n",
      "363/363 [==============================] - 0s 981us/step - loss: 0.4151 - val_loss: 0.4321\n",
      "Epoch 25/100\n",
      "363/363 [==============================] - 0s 452us/step - loss: 0.4135 - val_loss: 0.4324\n",
      "Epoch 26/100\n",
      "363/363 [==============================] - 0s 483us/step - loss: 0.4121 - val_loss: 0.4327\n",
      "Epoch 27/100\n",
      "363/363 [==============================] - 0s 471us/step - loss: 0.4108 - val_loss: 0.4285\n",
      "Epoch 28/100\n",
      "363/363 [==============================] - 0s 481us/step - loss: 0.4093 - val_loss: 0.4262\n",
      "Epoch 29/100\n",
      "363/363 [==============================] - 0s 462us/step - loss: 0.4079 - val_loss: 0.4260\n",
      "Epoch 30/100\n",
      "363/363 [==============================] - 0s 483us/step - loss: 0.4063 - val_loss: 0.4242\n",
      "Epoch 31/100\n",
      "363/363 [==============================] - 0s 432us/step - loss: 0.4049 - val_loss: 0.4255\n",
      "Epoch 32/100\n",
      "363/363 [==============================] - 0s 474us/step - loss: 0.4036 - val_loss: 0.4239\n",
      "Epoch 33/100\n",
      "363/363 [==============================] - 0s 470us/step - loss: 0.4018 - val_loss: 0.4240\n",
      "Epoch 34/100\n",
      "363/363 [==============================] - 0s 459us/step - loss: 0.4006 - val_loss: 0.4195\n",
      "Epoch 35/100\n",
      "363/363 [==============================] - 0s 489us/step - loss: 0.3994 - val_loss: 0.4185\n",
      "Epoch 36/100\n",
      "363/363 [==============================] - 0s 474us/step - loss: 0.3979 - val_loss: 0.4177\n",
      "Epoch 37/100\n",
      "363/363 [==============================] - 0s 468us/step - loss: 0.3965 - val_loss: 0.4181\n",
      "Epoch 38/100\n",
      "363/363 [==============================] - 0s 491us/step - loss: 0.3957 - val_loss: 0.4138\n",
      "Epoch 39/100\n",
      "363/363 [==============================] - 0s 439us/step - loss: 0.3942 - val_loss: 0.4145\n",
      "Epoch 40/100\n",
      "363/363 [==============================] - 0s 473us/step - loss: 0.3929 - val_loss: 0.4136\n",
      "Epoch 41/100\n",
      "363/363 [==============================] - 0s 498us/step - loss: 0.3918 - val_loss: 0.4110\n",
      "Epoch 42/100\n",
      "363/363 [==============================] - 0s 441us/step - loss: 0.3904 - val_loss: 0.4112\n",
      "Epoch 43/100\n",
      "363/363 [==============================] - 0s 435us/step - loss: 0.3889 - val_loss: 0.4093\n",
      "Epoch 44/100\n",
      "363/363 [==============================] - 0s 452us/step - loss: 0.3885 - val_loss: 0.4079\n",
      "Epoch 45/100\n",
      "363/363 [==============================] - 0s 443us/step - loss: 0.3871 - val_loss: 0.4075\n",
      "Epoch 46/100\n",
      "363/363 [==============================] - 0s 494us/step - loss: 0.3862 - val_loss: 0.4062\n",
      "Epoch 47/100\n",
      "363/363 [==============================] - 0s 480us/step - loss: 0.3851 - val_loss: 0.4050\n",
      "Epoch 48/100\n",
      "363/363 [==============================] - 0s 472us/step - loss: 0.3839 - val_loss: 0.4051\n",
      "Epoch 49/100\n",
      "363/363 [==============================] - 0s 466us/step - loss: 0.3825 - val_loss: 0.4051\n",
      "Epoch 50/100\n",
      "363/363 [==============================] - 0s 485us/step - loss: 0.3820 - val_loss: 0.4035\n",
      "Epoch 51/100\n",
      "363/363 [==============================] - 0s 483us/step - loss: 0.3805 - val_loss: 0.4028\n",
      "Epoch 52/100\n",
      "363/363 [==============================] - 0s 491us/step - loss: 0.3800 - val_loss: 0.4014\n",
      "Epoch 53/100\n",
      "363/363 [==============================] - 0s 470us/step - loss: 0.3789 - val_loss: 0.3994\n",
      "Epoch 54/100\n",
      "363/363 [==============================] - 0s 462us/step - loss: 0.3780 - val_loss: 0.3990\n",
      "Epoch 55/100\n",
      "363/363 [==============================] - 0s 468us/step - loss: 0.3768 - val_loss: 0.3993\n",
      "Epoch 56/100\n",
      "363/363 [==============================] - 0s 461us/step - loss: 0.3759 - val_loss: 0.3971\n",
      "Epoch 57/100\n",
      "363/363 [==============================] - 0s 479us/step - loss: 0.3751 - val_loss: 0.3959\n",
      "Epoch 58/100\n",
      "363/363 [==============================] - 0s 443us/step - loss: 0.3741 - val_loss: 0.3948\n",
      "Epoch 59/100\n",
      "363/363 [==============================] - 0s 433us/step - loss: 0.3730 - val_loss: 0.3941\n",
      "Epoch 60/100\n",
      "363/363 [==============================] - 0s 450us/step - loss: 0.3725 - val_loss: 0.3942\n",
      "Epoch 61/100\n",
      "363/363 [==============================] - 0s 469us/step - loss: 0.3713 - val_loss: 0.3934\n",
      "Epoch 62/100\n",
      "363/363 [==============================] - 0s 452us/step - loss: 0.3703 - val_loss: 0.3936\n",
      "Epoch 63/100\n",
      "363/363 [==============================] - 0s 451us/step - loss: 0.3697 - val_loss: 0.3913\n",
      "Epoch 64/100\n",
      "363/363 [==============================] - 0s 440us/step - loss: 0.3686 - val_loss: 0.3915\n",
      "Epoch 65/100\n",
      "363/363 [==============================] - 0s 433us/step - loss: 0.3677 - val_loss: 0.3908\n",
      "Epoch 66/100\n",
      "363/363 [==============================] - 0s 453us/step - loss: 0.3667 - val_loss: 0.3903\n",
      "Epoch 67/100\n",
      "363/363 [==============================] - 0s 527us/step - loss: 0.3663 - val_loss: 0.3891\n",
      "Epoch 68/100\n",
      "363/363 [==============================] - 0s 613us/step - loss: 0.3652 - val_loss: 0.3902\n",
      "Epoch 69/100\n",
      "363/363 [==============================] - 0s 586us/step - loss: 0.3646 - val_loss: 0.3898\n",
      "Epoch 70/100\n",
      "363/363 [==============================] - 0s 446us/step - loss: 0.3638 - val_loss: 0.3890\n",
      "Epoch 71/100\n",
      "363/363 [==============================] - 0s 458us/step - loss: 0.3628 - val_loss: 0.3869\n",
      "Epoch 72/100\n",
      "363/363 [==============================] - 0s 455us/step - loss: 0.3623 - val_loss: 0.3856\n",
      "Epoch 73/100\n",
      "363/363 [==============================] - 0s 422us/step - loss: 0.3610 - val_loss: 0.3850\n",
      "Epoch 74/100\n",
      "363/363 [==============================] - 0s 443us/step - loss: 0.3608 - val_loss: 0.3847\n",
      "Epoch 75/100\n",
      "363/363 [==============================] - 0s 523us/step - loss: 0.3600 - val_loss: 0.3836\n",
      "Epoch 76/100\n",
      "363/363 [==============================] - 0s 504us/step - loss: 0.3593 - val_loss: 0.3828\n",
      "Epoch 77/100\n",
      "363/363 [==============================] - 0s 459us/step - loss: 0.3583 - val_loss: 0.3834\n",
      "Epoch 78/100\n",
      "363/363 [==============================] - 0s 465us/step - loss: 0.3580 - val_loss: 0.3824\n",
      "Epoch 79/100\n",
      "363/363 [==============================] - 0s 432us/step - loss: 0.3572 - val_loss: 0.3814\n",
      "Epoch 80/100\n",
      "363/363 [==============================] - 0s 448us/step - loss: 0.3563 - val_loss: 0.3806\n",
      "Epoch 81/100\n",
      "363/363 [==============================] - 0s 424us/step - loss: 0.3553 - val_loss: 0.3813\n",
      "Epoch 82/100\n",
      "363/363 [==============================] - 0s 442us/step - loss: 0.3551 - val_loss: 0.3823\n",
      "Epoch 83/100\n",
      "363/363 [==============================] - 0s 417us/step - loss: 0.3545 - val_loss: 0.3816\n",
      "Epoch 84/100\n",
      "363/363 [==============================] - 0s 427us/step - loss: 0.3539 - val_loss: 0.3799\n",
      "Epoch 85/100\n",
      "363/363 [==============================] - 0s 428us/step - loss: 0.3528 - val_loss: 0.3807\n",
      "Epoch 86/100\n",
      "363/363 [==============================] - 0s 427us/step - loss: 0.3526 - val_loss: 0.3791\n",
      "Epoch 87/100\n",
      "363/363 [==============================] - 0s 488us/step - loss: 0.3515 - val_loss: 0.3788\n",
      "Epoch 88/100\n",
      "363/363 [==============================] - 0s 471us/step - loss: 0.3515 - val_loss: 0.3776\n",
      "Epoch 89/100\n",
      "363/363 [==============================] - 0s 454us/step - loss: 0.3500 - val_loss: 0.3783\n",
      "Epoch 90/100\n",
      "363/363 [==============================] - 0s 473us/step - loss: 0.3505 - val_loss: 0.3768\n",
      "Epoch 91/100\n",
      "363/363 [==============================] - 0s 461us/step - loss: 0.3493 - val_loss: 0.3754\n",
      "Epoch 92/100\n",
      "363/363 [==============================] - 0s 444us/step - loss: 0.3491 - val_loss: 0.3759\n",
      "Epoch 93/100\n",
      "363/363 [==============================] - 0s 425us/step - loss: 0.3483 - val_loss: 0.3760\n",
      "Epoch 94/100\n",
      "363/363 [==============================] - 0s 445us/step - loss: 0.3477 - val_loss: 0.3746\n",
      "Epoch 95/100\n",
      "363/363 [==============================] - 0s 457us/step - loss: 0.3470 - val_loss: 0.3743\n",
      "Epoch 96/100\n",
      "363/363 [==============================] - 0s 481us/step - loss: 0.3466 - val_loss: 0.3751\n",
      "Epoch 97/100\n",
      "363/363 [==============================] - 0s 459us/step - loss: 0.3460 - val_loss: 0.3736\n",
      "Epoch 98/100\n",
      "363/363 [==============================] - 0s 462us/step - loss: 0.3463 - val_loss: 0.3733\n",
      "Epoch 99/100\n",
      "363/363 [==============================] - 0s 492us/step - loss: 0.3451 - val_loss: 0.3724\n",
      "Epoch 100/100\n",
      "363/363 [==============================] - 0s 471us/step - loss: 0.3449 - val_loss: 0.3714\n",
      "162/162 [==============================] - 0s 306us/step - loss: 0.3584\n"
     ]
    }
   ],
   "source": [
    "model.compile(loss=\"mse\", optimizer=keras.optimizers.SGD(learning_rate=1e-3))\n",
    "early_stopping_cb = keras.callbacks.EarlyStopping(patience=10,\n",
    "                                                  restore_best_weights=True)\n",
    "history = model.fit(X_train, y_train, epochs=100,\n",
    "                    validation_data=(X_valid, y_valid),\n",
    "                    callbacks=[checkpoint_cb, early_stopping_cb])\n",
    "mse_test = model.evaluate(X_test, y_test)"
   ],
   "metadata": {
    "collapsed": false,
    "ExecuteTime": {
     "end_time": "2023-07-31T11:38:06.622424Z",
     "start_time": "2023-07-31T11:37:48.980911Z"
    }
   },
   "id": "65dd51f6a078f5b1"
  },
  {
   "cell_type": "code",
   "execution_count": 53,
   "outputs": [
    {
     "data": {
      "text/plain": "0.3583745062351227"
     },
     "execution_count": 53,
     "metadata": {},
     "output_type": "execute_result"
    }
   ],
   "source": [
    "mse_test"
   ],
   "metadata": {
    "collapsed": false,
    "ExecuteTime": {
     "end_time": "2023-07-31T11:38:09.841772Z",
     "start_time": "2023-07-31T11:38:09.818245Z"
    }
   },
   "id": "726ad95d508d06c5"
  },
  {
   "cell_type": "markdown",
   "source": [
    "사용자 정의 콜백: 검증 손실과 훈련 손실의 비율을 출력함으로써 과대적합 감지"
   ],
   "metadata": {
    "collapsed": false
   },
   "id": "f00bea9a97685f5d"
  },
  {
   "cell_type": "code",
   "execution_count": 55,
   "outputs": [],
   "source": [
    "class PrintValTrainRatioCallback(keras.callbacks.Callback):\n",
    "    def on_epoch_end(self, epoch, logs):\n",
    "        print(\"\\nval/train: {:.2f}\".format(logs[\"val_loss\"] / logs[\"loss\"]))"
   ],
   "metadata": {
    "collapsed": false,
    "ExecuteTime": {
     "end_time": "2023-07-31T11:54:58.615061Z",
     "start_time": "2023-07-31T11:54:58.607296Z"
    }
   },
   "id": "1e2bed8167319b59"
  },
  {
   "cell_type": "code",
   "execution_count": 57,
   "outputs": [
    {
     "name": "stdout",
     "output_type": "stream",
     "text": [
      "272/363 [=====================>........] - ETA: 0s - loss: 0.3459\n",
      "val/train: 1.09\n",
      "363/363 [==============================] - 0s 520us/step - loss: 0.3436 - val_loss: 0.3732\n"
     ]
    }
   ],
   "source": [
    "val_train_ratio_cb = PrintValTrainRatioCallback()\n",
    "history = model.fit(X_train, y_train, epochs=1,\n",
    "                    validation_data=(X_valid, y_valid),\n",
    "                    callbacks=[val_train_ratio_cb])"
   ],
   "metadata": {
    "collapsed": false,
    "ExecuteTime": {
     "end_time": "2023-07-31T11:55:22.872141Z",
     "start_time": "2023-07-31T11:55:22.633819Z"
    }
   },
   "id": "cc9a50c0d650a13f"
  },
  {
   "cell_type": "markdown",
   "source": [
    "## 텐서보드 사용"
   ],
   "metadata": {
    "collapsed": false
   },
   "id": "6913d711f5b5d7d4"
  },
  {
   "cell_type": "code",
   "execution_count": 58,
   "outputs": [],
   "source": [
    "import os"
   ],
   "metadata": {
    "collapsed": false,
    "ExecuteTime": {
     "end_time": "2023-07-31T12:46:22.311339Z",
     "start_time": "2023-07-31T12:46:22.309257Z"
    }
   },
   "id": "dfe3106b046ec686"
  },
  {
   "cell_type": "code",
   "execution_count": 59,
   "outputs": [],
   "source": [
    "root_logdir = os.path.join(os.curdir, \"my_logs\")"
   ],
   "metadata": {
    "collapsed": false,
    "ExecuteTime": {
     "end_time": "2023-07-31T12:46:57.031856Z",
     "start_time": "2023-07-31T12:46:57.014515Z"
    }
   },
   "id": "3f9b66b7ee5896b3"
  },
  {
   "cell_type": "code",
   "execution_count": 60,
   "outputs": [
    {
     "data": {
      "text/plain": "'./my_logs/run_2023_07_31-21_48_00'"
     },
     "execution_count": 60,
     "metadata": {},
     "output_type": "execute_result"
    }
   ],
   "source": [
    "def get_run_logdir():\n",
    "    import time\n",
    "    run_id = time.strftime(\"run_%Y_%m_%d-%H_%M_%S\")\n",
    "    return os.path.join(root_logdir, run_id)\n",
    "\n",
    "run_logdir = get_run_logdir()\n",
    "run_logdir"
   ],
   "metadata": {
    "collapsed": false,
    "ExecuteTime": {
     "end_time": "2023-07-31T12:48:00.183766Z",
     "start_time": "2023-07-31T12:48:00.160441Z"
    }
   },
   "id": "d69c9ffbebd84fa2"
  },
  {
   "cell_type": "code",
   "execution_count": 61,
   "outputs": [],
   "source": [
    "keras.backend.clear_session()\n",
    "np.random.seed(42)\n",
    "tf.random.set_seed(42)"
   ],
   "metadata": {
    "collapsed": false,
    "ExecuteTime": {
     "end_time": "2023-07-31T12:48:41.637297Z",
     "start_time": "2023-07-31T12:48:41.585923Z"
    }
   },
   "id": "79973b5e6daadbae"
  },
  {
   "cell_type": "code",
   "execution_count": 62,
   "outputs": [
    {
     "name": "stderr",
     "output_type": "stream",
     "text": [
      "WARNING:absl:At this time, the v2.11+ optimizer `tf.keras.optimizers.SGD` runs slowly on M1/M2 Macs, please use the legacy Keras optimizer instead, located at `tf.keras.optimizers.legacy.SGD`.\n",
      "WARNING:absl:There is a known slowdown when using v2.11+ Keras optimizers on M1/M2 Macs. Falling back to the legacy Keras optimizer, i.e., `tf.keras.optimizers.legacy.SGD`.\n"
     ]
    }
   ],
   "source": [
    "model = keras.models.Sequential([\n",
    "    keras.layers.Dense(30, activation=\"relu\", input_shape=[8]),\n",
    "    keras.layers.Dense(30, activation=\"relu\"),\n",
    "    keras.layers.Dense(1)\n",
    "])    \n",
    "model.compile(loss=\"mse\", optimizer=keras.optimizers.SGD(learning_rate=1e-3))"
   ],
   "metadata": {
    "collapsed": false,
    "ExecuteTime": {
     "end_time": "2023-07-31T12:48:51.821753Z",
     "start_time": "2023-07-31T12:48:51.736037Z"
    }
   },
   "id": "97ac29a2d936117d"
  },
  {
   "cell_type": "code",
   "execution_count": 63,
   "outputs": [
    {
     "name": "stdout",
     "output_type": "stream",
     "text": [
      "Epoch 1/30\n",
      "363/363 [==============================] - 0s 711us/step - loss: 1.8568 - val_loss: 0.9101\n",
      "Epoch 2/30\n",
      "363/363 [==============================] - 0s 544us/step - loss: 0.7530 - val_loss: 0.6777\n",
      "Epoch 3/30\n",
      "363/363 [==============================] - 0s 524us/step - loss: 0.6463 - val_loss: 0.6344\n",
      "Epoch 4/30\n",
      "363/363 [==============================] - 0s 539us/step - loss: 0.6070 - val_loss: 0.6020\n",
      "Epoch 5/30\n",
      "363/363 [==============================] - 0s 526us/step - loss: 0.5772 - val_loss: 0.5749\n",
      "Epoch 6/30\n",
      "363/363 [==============================] - 0s 517us/step - loss: 0.5520 - val_loss: 0.5538\n",
      "Epoch 7/30\n",
      "363/363 [==============================] - 0s 523us/step - loss: 0.5309 - val_loss: 0.5355\n",
      "Epoch 8/30\n",
      "363/363 [==============================] - 0s 514us/step - loss: 0.5136 - val_loss: 0.5199\n",
      "Epoch 9/30\n",
      "363/363 [==============================] - 0s 504us/step - loss: 0.5000 - val_loss: 0.5082\n",
      "Epoch 10/30\n",
      "363/363 [==============================] - 0s 503us/step - loss: 0.4893 - val_loss: 0.4994\n",
      "Epoch 11/30\n",
      "363/363 [==============================] - 0s 489us/step - loss: 0.4802 - val_loss: 0.4916\n",
      "Epoch 12/30\n",
      "363/363 [==============================] - 0s 495us/step - loss: 0.4729 - val_loss: 0.4846\n",
      "Epoch 13/30\n",
      "363/363 [==============================] - 0s 518us/step - loss: 0.4668 - val_loss: 0.4786\n",
      "Epoch 14/30\n",
      "363/363 [==============================] - 0s 495us/step - loss: 0.4618 - val_loss: 0.4743\n",
      "Epoch 15/30\n",
      "363/363 [==============================] - 0s 494us/step - loss: 0.4571 - val_loss: 0.4716\n",
      "Epoch 16/30\n",
      "363/363 [==============================] - 0s 484us/step - loss: 0.4533 - val_loss: 0.4662\n",
      "Epoch 17/30\n",
      "363/363 [==============================] - 0s 521us/step - loss: 0.4496 - val_loss: 0.4652\n",
      "Epoch 18/30\n",
      "363/363 [==============================] - 0s 533us/step - loss: 0.4464 - val_loss: 0.4602\n",
      "Epoch 19/30\n",
      "363/363 [==============================] - 0s 488us/step - loss: 0.4435 - val_loss: 0.4574\n",
      "Epoch 20/30\n",
      "363/363 [==============================] - 0s 496us/step - loss: 0.4405 - val_loss: 0.4561\n",
      "Epoch 21/30\n",
      "363/363 [==============================] - 0s 490us/step - loss: 0.4380 - val_loss: 0.4517\n",
      "Epoch 22/30\n",
      "363/363 [==============================] - 0s 495us/step - loss: 0.4355 - val_loss: 0.4499\n",
      "Epoch 23/30\n",
      "363/363 [==============================] - 0s 573us/step - loss: 0.4332 - val_loss: 0.4473\n",
      "Epoch 24/30\n",
      "363/363 [==============================] - 0s 503us/step - loss: 0.4310 - val_loss: 0.4454\n",
      "Epoch 25/30\n",
      "363/363 [==============================] - 0s 489us/step - loss: 0.4288 - val_loss: 0.4442\n",
      "Epoch 26/30\n",
      "363/363 [==============================] - 0s 502us/step - loss: 0.4269 - val_loss: 0.4435\n",
      "Epoch 27/30\n",
      "363/363 [==============================] - 0s 530us/step - loss: 0.4249 - val_loss: 0.4402\n",
      "Epoch 28/30\n",
      "363/363 [==============================] - 0s 521us/step - loss: 0.4231 - val_loss: 0.4377\n",
      "Epoch 29/30\n",
      "363/363 [==============================] - 0s 520us/step - loss: 0.4211 - val_loss: 0.4370\n",
      "Epoch 30/30\n",
      "363/363 [==============================] - 0s 558us/step - loss: 0.4193 - val_loss: 0.4351\n"
     ]
    }
   ],
   "source": [
    "tensorboard_cb = keras.callbacks.TensorBoard(run_logdir)\n",
    "history = model.fit(X_train, y_train, epochs=30,\n",
    "                    validation_data=(X_valid, y_valid),\n",
    "                    callbacks=[checkpoint_cb, tensorboard_cb])"
   ],
   "metadata": {
    "collapsed": false,
    "ExecuteTime": {
     "end_time": "2023-07-31T12:54:38.499122Z",
     "start_time": "2023-07-31T12:54:32.476636Z"
    }
   },
   "id": "ea1f1f1266bae093"
  },
  {
   "cell_type": "code",
   "execution_count": 64,
   "outputs": [
    {
     "data": {
      "text/plain": "'./my_logs/run_2023_07_31-22_10_59'"
     },
     "execution_count": 64,
     "metadata": {},
     "output_type": "execute_result"
    }
   ],
   "source": [
    "run_logdir2 = get_run_logdir()\n",
    "run_logdir2"
   ],
   "metadata": {
    "collapsed": false,
    "ExecuteTime": {
     "end_time": "2023-07-31T13:10:59.326824Z",
     "start_time": "2023-07-31T13:10:59.318787Z"
    }
   },
   "id": "459dd0ea42d58b8e"
  },
  {
   "cell_type": "code",
   "execution_count": 65,
   "outputs": [],
   "source": [
    "keras.backend.clear_session()\n",
    "np.random.seed(42)\n",
    "tf.random.set_seed(42)"
   ],
   "metadata": {
    "collapsed": false,
    "ExecuteTime": {
     "end_time": "2023-07-31T13:11:04.995046Z",
     "start_time": "2023-07-31T13:11:04.950955Z"
    }
   },
   "id": "bb0591136095b1ca"
  },
  {
   "cell_type": "code",
   "execution_count": 66,
   "outputs": [
    {
     "name": "stderr",
     "output_type": "stream",
     "text": [
      "WARNING:absl:At this time, the v2.11+ optimizer `tf.keras.optimizers.SGD` runs slowly on M1/M2 Macs, please use the legacy Keras optimizer instead, located at `tf.keras.optimizers.legacy.SGD`.\n",
      "WARNING:absl:There is a known slowdown when using v2.11+ Keras optimizers on M1/M2 Macs. Falling back to the legacy Keras optimizer, i.e., `tf.keras.optimizers.legacy.SGD`.\n"
     ]
    }
   ],
   "source": [
    "model = keras.models.Sequential([\n",
    "    keras.layers.Dense(30, activation=\"relu\", input_shape=[8]),\n",
    "    keras.layers.Dense(30, activation=\"relu\"),\n",
    "    keras.layers.Dense(1)\n",
    "])    \n",
    "model.compile(loss=\"mse\", optimizer=keras.optimizers.SGD(learning_rate=0.05))"
   ],
   "metadata": {
    "collapsed": false,
    "ExecuteTime": {
     "end_time": "2023-07-31T13:11:10.560226Z",
     "start_time": "2023-07-31T13:11:10.498598Z"
    }
   },
   "id": "a11f2e34d9111b9c"
  },
  {
   "cell_type": "code",
   "execution_count": 67,
   "outputs": [
    {
     "name": "stdout",
     "output_type": "stream",
     "text": [
      "Epoch 1/30\n",
      "363/363 [==============================] - 0s 635us/step - loss: 0.5841 - val_loss: 0.4405\n",
      "Epoch 2/30\n",
      "363/363 [==============================] - 0s 646us/step - loss: 0.4386 - val_loss: 0.5421\n",
      "Epoch 3/30\n",
      "363/363 [==============================] - 0s 558us/step - loss: nan - val_loss: nan\n",
      "Epoch 4/30\n",
      "363/363 [==============================] - 0s 531us/step - loss: nan - val_loss: nan\n",
      "Epoch 5/30\n",
      "363/363 [==============================] - 0s 537us/step - loss: nan - val_loss: nan\n",
      "Epoch 6/30\n",
      "363/363 [==============================] - 0s 514us/step - loss: nan - val_loss: nan\n",
      "Epoch 7/30\n",
      "363/363 [==============================] - 0s 598us/step - loss: nan - val_loss: nan\n",
      "Epoch 8/30\n",
      "363/363 [==============================] - 0s 555us/step - loss: nan - val_loss: nan\n",
      "Epoch 9/30\n",
      "363/363 [==============================] - 0s 555us/step - loss: nan - val_loss: nan\n",
      "Epoch 10/30\n",
      "363/363 [==============================] - 0s 493us/step - loss: nan - val_loss: nan\n",
      "Epoch 11/30\n",
      "363/363 [==============================] - 0s 545us/step - loss: nan - val_loss: nan\n",
      "Epoch 12/30\n",
      "363/363 [==============================] - 0s 530us/step - loss: nan - val_loss: nan\n",
      "Epoch 13/30\n",
      "363/363 [==============================] - 0s 499us/step - loss: nan - val_loss: nan\n",
      "Epoch 14/30\n",
      "363/363 [==============================] - 0s 521us/step - loss: nan - val_loss: nan\n",
      "Epoch 15/30\n",
      "363/363 [==============================] - 0s 624us/step - loss: nan - val_loss: nan\n",
      "Epoch 16/30\n",
      "363/363 [==============================] - 0s 556us/step - loss: nan - val_loss: nan\n",
      "Epoch 17/30\n",
      "363/363 [==============================] - 0s 544us/step - loss: nan - val_loss: nan\n",
      "Epoch 18/30\n",
      "363/363 [==============================] - 0s 534us/step - loss: nan - val_loss: nan\n",
      "Epoch 19/30\n",
      "363/363 [==============================] - 0s 543us/step - loss: nan - val_loss: nan\n",
      "Epoch 20/30\n",
      "363/363 [==============================] - 0s 521us/step - loss: nan - val_loss: nan\n",
      "Epoch 21/30\n",
      "363/363 [==============================] - 0s 501us/step - loss: nan - val_loss: nan\n",
      "Epoch 22/30\n",
      "363/363 [==============================] - 0s 513us/step - loss: nan - val_loss: nan\n",
      "Epoch 23/30\n",
      "363/363 [==============================] - 0s 506us/step - loss: nan - val_loss: nan\n",
      "Epoch 24/30\n",
      "363/363 [==============================] - 0s 504us/step - loss: nan - val_loss: nan\n",
      "Epoch 25/30\n",
      "363/363 [==============================] - 0s 490us/step - loss: nan - val_loss: nan\n",
      "Epoch 26/30\n",
      "363/363 [==============================] - 0s 508us/step - loss: nan - val_loss: nan\n",
      "Epoch 27/30\n",
      "363/363 [==============================] - 0s 540us/step - loss: nan - val_loss: nan\n",
      "Epoch 28/30\n",
      "363/363 [==============================] - 0s 498us/step - loss: nan - val_loss: nan\n",
      "Epoch 29/30\n",
      "363/363 [==============================] - 0s 490us/step - loss: nan - val_loss: nan\n",
      "Epoch 30/30\n",
      "363/363 [==============================] - 0s 481us/step - loss: nan - val_loss: nan\n"
     ]
    }
   ],
   "source": [
    "tensorboard_cb = keras.callbacks.TensorBoard(run_logdir2)\n",
    "history = model.fit(X_train, y_train, epochs=30,\n",
    "                    validation_data=(X_valid, y_valid),\n",
    "                    callbacks=[checkpoint_cb, tensorboard_cb])"
   ],
   "metadata": {
    "collapsed": false,
    "ExecuteTime": {
     "end_time": "2023-07-31T13:11:22.354577Z",
     "start_time": "2023-07-31T13:11:16.277419Z"
    }
   },
   "id": "f070974b9cc04919"
  },
  {
   "cell_type": "markdown",
   "source": [
    "사용할 수 있는 로깅 옵션 확인"
   ],
   "metadata": {
    "collapsed": false
   },
   "id": "5cdb068ae4e2a77f"
  },
  {
   "cell_type": "code",
   "execution_count": 69,
   "outputs": [
    {
     "name": "stdout",
     "output_type": "stream",
     "text": [
      "Help on function __init__ in module keras.src.callbacks:\n",
      "\n",
      "__init__(self, log_dir='logs', histogram_freq=0, write_graph=True, write_images=False, write_steps_per_second=False, update_freq='epoch', profile_batch=0, embeddings_freq=0, embeddings_metadata=None, **kwargs)\n",
      "    Initialize self.  See help(type(self)) for accurate signature.\n"
     ]
    }
   ],
   "source": [
    "help(keras.callbacks.TensorBoard.__init__)"
   ],
   "metadata": {
    "collapsed": false,
    "ExecuteTime": {
     "end_time": "2023-07-31T13:15:26.455801Z",
     "start_time": "2023-07-31T13:15:26.442688Z"
    }
   },
   "id": "57c2aff412078e33"
  },
  {
   "cell_type": "code",
   "execution_count": null,
   "outputs": [],
   "source": [],
   "metadata": {
    "collapsed": false
   },
   "id": "95c3b27336457dbf"
  }
 ],
 "metadata": {
  "kernelspec": {
   "display_name": "Python 3",
   "language": "python",
   "name": "python3"
  },
  "language_info": {
   "codemirror_mode": {
    "name": "ipython",
    "version": 2
   },
   "file_extension": ".py",
   "mimetype": "text/x-python",
   "name": "python",
   "nbconvert_exporter": "python",
   "pygments_lexer": "ipython2",
   "version": "2.7.6"
  }
 },
 "nbformat": 4,
 "nbformat_minor": 5
}
