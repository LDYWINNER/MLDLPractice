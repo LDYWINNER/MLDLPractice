{
 "cells": [
  {
   "cell_type": "markdown",
   "source": [
    "## Wide & Deep NN"
   ],
   "metadata": {
    "collapsed": false
   },
   "id": "8b0be7eaf3c052cb"
  },
  {
   "cell_type": "code",
   "execution_count": 8,
   "outputs": [
    {
     "name": "stdout",
     "output_type": "stream",
     "text": [
      "2.13.0\n"
     ]
    }
   ],
   "source": [
    "# 파이썬 ≥3.5 필수\n",
    "import sys\n",
    "assert sys.version_info >= (3, 5)\n",
    "\n",
    "# 사이킷런 ≥0.20 필수\n",
    "import sklearn\n",
    "assert sklearn.__version__ >= \"0.20\"\n",
    "\n",
    "# 텐서플로 ≥2.0 필수\n",
    "import tensorflow as tf\n",
    "assert tf.__version__ >= \"2.0\"\n",
    "\n",
    "# 공통 모듈 임포트\n",
    "import numpy as np\n",
    "import os\n",
    "\n",
    "# 노트북 실행 결과를 동일하게 유지하기 위해\n",
    "np.random.seed(42)\n",
    "\n",
    "# 깔끔한 그래프 출력을 위해\n",
    "%matplotlib inline\n",
    "import matplotlib as mpl\n",
    "import matplotlib.pyplot as plt\n",
    "mpl.rc('axes', labelsize=14)\n",
    "mpl.rc('xtick', labelsize=12)\n",
    "mpl.rc('ytick', labelsize=12)\n",
    "\n",
    "# 그림을 저장할 위치\n",
    "PROJECT_ROOT_DIR = \".\"\n",
    "CHAPTER_ID = \"ann\"\n",
    "IMAGES_PATH = os.path.join(PROJECT_ROOT_DIR, \"images\", CHAPTER_ID)\n",
    "os.makedirs(IMAGES_PATH, exist_ok=True)\n",
    "\n",
    "def save_fig(fig_id, tight_layout=True, fig_extension=\"png\", resolution=300):\n",
    "    path = os.path.join(IMAGES_PATH, fig_id + \".\" + fig_extension)\n",
    "    print(\"그림 저장:\", fig_id)\n",
    "    if tight_layout:\n",
    "        plt.tight_layout()\n",
    "    plt.savefig(path, format=fig_extension, dpi=resolution)\n",
    "\n",
    "import tensorflow as tf\n",
    "from tensorflow import keras\n",
    "print(tf.__version__)\n",
    "\n",
    "import pandas as pd"
   ],
   "metadata": {
    "collapsed": false,
    "ExecuteTime": {
     "end_time": "2023-07-30T13:56:44.790642Z",
     "start_time": "2023-07-30T13:56:44.784652Z"
    }
   },
   "id": "3b6f092caf719c27"
  },
  {
   "cell_type": "code",
   "execution_count": 9,
   "outputs": [],
   "source": [
    "from sklearn.datasets import fetch_california_housing\n",
    "from sklearn.model_selection import train_test_split\n",
    "from sklearn.preprocessing import StandardScaler\n",
    "\n",
    "housing = fetch_california_housing()\n",
    "\n",
    "X_train_full, X_test, y_train_full, y_test = train_test_split(housing.data, housing.target)\n",
    "X_train, X_valid, y_train, y_valid = train_test_split(X_train_full, y_train_full)\n",
    "\n",
    "scaler = StandardScaler()\n",
    "X_train = scaler.fit_transform(X_train)\n",
    "X_valid = scaler.transform(X_valid)\n",
    "X_test = scaler.transform(X_test)"
   ],
   "metadata": {
    "collapsed": false,
    "ExecuteTime": {
     "end_time": "2023-07-30T13:56:46.376206Z",
     "start_time": "2023-07-30T13:56:46.353125Z"
    }
   },
   "id": "d6865ca11b3a401e"
  },
  {
   "cell_type": "code",
   "execution_count": 14,
   "outputs": [],
   "source": [
    "np.random.seed(42)\n",
    "tf.random.set_seed(42)"
   ],
   "metadata": {
    "collapsed": false,
    "ExecuteTime": {
     "end_time": "2023-07-30T13:58:47.598781Z",
     "start_time": "2023-07-30T13:58:47.595022Z"
    }
   },
   "id": "8b59b0aa66028816"
  },
  {
   "cell_type": "code",
   "execution_count": 16,
   "outputs": [],
   "source": [
    "X_new = X_test[:3]"
   ],
   "metadata": {
    "collapsed": false,
    "ExecuteTime": {
     "end_time": "2023-07-30T13:59:18.440198Z",
     "start_time": "2023-07-30T13:59:18.410547Z"
    }
   },
   "id": "f63abb0fc1f96f56"
  },
  {
   "cell_type": "code",
   "execution_count": 17,
   "id": "initial_id",
   "metadata": {
    "collapsed": true,
    "ExecuteTime": {
     "end_time": "2023-07-30T13:59:18.607119Z",
     "start_time": "2023-07-30T13:59:18.574802Z"
    }
   },
   "outputs": [],
   "source": [
    "input_ = keras.layers.Input(shape=X_train.shape[1:])\n",
    "hidden1 = keras.layers.Dense(30, activation=\"relu\")(input_)\n",
    "hidden2 = keras.layers.Dense(30, activation=\"relu\")(hidden1)\n",
    "concat = keras.layers.Concatenate()([input_, hidden2])\n",
    "output = keras.layers.Dense(1)(concat)\n",
    "model = keras.Model(inputs=[input_], outputs=[output])"
   ]
  },
  {
   "cell_type": "code",
   "execution_count": 18,
   "outputs": [
    {
     "name": "stdout",
     "output_type": "stream",
     "text": [
      "Model: \"model_1\"\n",
      "__________________________________________________________________________________________________\n",
      " Layer (type)                Output Shape                 Param #   Connected to                  \n",
      "==================================================================================================\n",
      " input_2 (InputLayer)        [(None, 8)]                  0         []                            \n",
      "                                                                                                  \n",
      " dense_7 (Dense)             (None, 30)                   270       ['input_2[0][0]']             \n",
      "                                                                                                  \n",
      " dense_8 (Dense)             (None, 30)                   930       ['dense_7[0][0]']             \n",
      "                                                                                                  \n",
      " concatenate_1 (Concatenate  (None, 38)                   0         ['input_2[0][0]',             \n",
      " )                                                                   'dense_8[0][0]']             \n",
      "                                                                                                  \n",
      " dense_9 (Dense)             (None, 1)                    39        ['concatenate_1[0][0]']       \n",
      "                                                                                                  \n",
      "==================================================================================================\n",
      "Total params: 1239 (4.84 KB)\n",
      "Trainable params: 1239 (4.84 KB)\n",
      "Non-trainable params: 0 (0.00 Byte)\n",
      "__________________________________________________________________________________________________\n"
     ]
    }
   ],
   "source": [
    "model.summary()"
   ],
   "metadata": {
    "collapsed": false,
    "ExecuteTime": {
     "end_time": "2023-07-30T13:59:18.798112Z",
     "start_time": "2023-07-30T13:59:18.783338Z"
    }
   },
   "id": "5391c414aaf69b28"
  },
  {
   "cell_type": "code",
   "execution_count": 19,
   "outputs": [
    {
     "name": "stderr",
     "output_type": "stream",
     "text": [
      "WARNING:absl:At this time, the v2.11+ optimizer `tf.keras.optimizers.SGD` runs slowly on M1/M2 Macs, please use the legacy Keras optimizer instead, located at `tf.keras.optimizers.legacy.SGD`.\n",
      "WARNING:absl:There is a known slowdown when using v2.11+ Keras optimizers on M1/M2 Macs. Falling back to the legacy Keras optimizer, i.e., `tf.keras.optimizers.legacy.SGD`.\n"
     ]
    },
    {
     "name": "stdout",
     "output_type": "stream",
     "text": [
      "Epoch 1/20\n",
      "363/363 [==============================] - 0s 574us/step - loss: 1.9430 - val_loss: 0.9191\n",
      "Epoch 2/20\n",
      "363/363 [==============================] - 0s 444us/step - loss: 0.8670 - val_loss: 0.7768\n",
      "Epoch 3/20\n",
      "363/363 [==============================] - 0s 430us/step - loss: 0.7465 - val_loss: 0.6985\n",
      "Epoch 4/20\n",
      "363/363 [==============================] - 0s 454us/step - loss: 0.6730 - val_loss: 0.6586\n",
      "Epoch 5/20\n",
      "363/363 [==============================] - 0s 452us/step - loss: 0.6340 - val_loss: 0.6272\n",
      "Epoch 6/20\n",
      "363/363 [==============================] - 0s 474us/step - loss: 0.6044 - val_loss: 0.6047\n",
      "Epoch 7/20\n",
      "363/363 [==============================] - 0s 461us/step - loss: 0.5819 - val_loss: 0.5827\n",
      "Epoch 8/20\n",
      "363/363 [==============================] - 0s 446us/step - loss: 0.5628 - val_loss: 0.5672\n",
      "Epoch 9/20\n",
      "363/363 [==============================] - 0s 448us/step - loss: 0.5484 - val_loss: 0.5543\n",
      "Epoch 10/20\n",
      "363/363 [==============================] - 0s 432us/step - loss: 0.5362 - val_loss: 0.5437\n",
      "Epoch 11/20\n",
      "363/363 [==============================] - 0s 429us/step - loss: 0.5251 - val_loss: 0.5352\n",
      "Epoch 12/20\n",
      "363/363 [==============================] - 0s 449us/step - loss: 0.5166 - val_loss: 0.5272\n",
      "Epoch 13/20\n",
      "363/363 [==============================] - 0s 434us/step - loss: 0.5085 - val_loss: 0.5195\n",
      "Epoch 14/20\n",
      "363/363 [==============================] - 0s 452us/step - loss: 0.5016 - val_loss: 0.5139\n",
      "Epoch 15/20\n",
      "363/363 [==============================] - 0s 429us/step - loss: 0.4953 - val_loss: 0.5100\n",
      "Epoch 16/20\n",
      "363/363 [==============================] - 0s 438us/step - loss: 0.4904 - val_loss: 0.5039\n",
      "Epoch 17/20\n",
      "363/363 [==============================] - 0s 428us/step - loss: 0.4851 - val_loss: 0.5014\n",
      "Epoch 18/20\n",
      "363/363 [==============================] - 0s 428us/step - loss: 0.4814 - val_loss: 0.4968\n",
      "Epoch 19/20\n",
      "363/363 [==============================] - 0s 431us/step - loss: 0.4771 - val_loss: 0.4933\n",
      "Epoch 20/20\n",
      "363/363 [==============================] - 0s 431us/step - loss: 0.4733 - val_loss: 0.4909\n",
      "162/162 [==============================] - 0s 289us/step - loss: 0.4831\n",
      "1/1 [==============================] - 0s 20ms/step\n"
     ]
    }
   ],
   "source": [
    "model.compile(loss=\"mean_squared_error\", optimizer=keras.optimizers.SGD(learning_rate=1e-3))\n",
    "history = model.fit(X_train, y_train, epochs=20,\n",
    "                    validation_data=(X_valid, y_valid))\n",
    "mse_test = model.evaluate(X_test, y_test)\n",
    "y_pred = model.predict(X_new)"
   ],
   "metadata": {
    "collapsed": false,
    "ExecuteTime": {
     "end_time": "2023-07-30T14:00:16.344550Z",
     "start_time": "2023-07-30T14:00:12.785407Z"
    }
   },
   "id": "86c644b015aaceec"
  },
  {
   "cell_type": "code",
   "execution_count": 20,
   "outputs": [
    {
     "data": {
      "text/plain": "array([[0.7401556],\n       [1.4516754],\n       [2.7926033]], dtype=float32)"
     },
     "execution_count": 20,
     "metadata": {},
     "output_type": "execute_result"
    }
   ],
   "source": [
    "y_pred"
   ],
   "metadata": {
    "collapsed": false,
    "ExecuteTime": {
     "end_time": "2023-07-30T14:00:28.605163Z",
     "start_time": "2023-07-30T14:00:28.587698Z"
    }
   },
   "id": "87c92d6faad76eaa"
  },
  {
   "cell_type": "markdown",
   "source": [
    "와이드나 딥 경로에 다른 입력 특성을 전달하면 어떻게 될까요? (특성 0에서 4까지) 5개의 특성을 와이드 경로에 보내고 (특성 2에서 7까지) 6개의 특성을 딥 경로에 전달하겠습니다. 3개의 특성(특성 2, 3, 4)은 양쪽에 모두 전달됩니다."
   ],
   "metadata": {
    "collapsed": false
   },
   "id": "1bbe016f3ed160d"
  },
  {
   "cell_type": "code",
   "execution_count": 23,
   "outputs": [],
   "source": [
    "np.random.seed(42)\n",
    "tf.random.set_seed(42)"
   ],
   "metadata": {
    "collapsed": false,
    "ExecuteTime": {
     "end_time": "2023-07-30T15:33:25.881842Z",
     "start_time": "2023-07-30T15:33:25.880070Z"
    }
   },
   "id": "8891cbae2cf81d06"
  },
  {
   "cell_type": "code",
   "execution_count": 25,
   "outputs": [],
   "source": [
    "input_A = keras.layers.Input(shape=[5], name=\"wide_input\")\n",
    "input_B = keras.layers.Input(shape=[6], name=\"deep_input\")\n",
    "hidden1 = keras.layers.Dense(30, activation=\"relu\")(input_B)\n",
    "hidden2 = keras.layers.Dense(30, activation=\"relu\")(hidden1)\n",
    "concat = keras.layers.concatenate([input_A, hidden2])\n",
    "output = keras.layers.Dense(1, name=\"output\")(concat)\n",
    "model = keras.Model(inputs=[input_A, input_B], outputs=[output])"
   ],
   "metadata": {
    "collapsed": false,
    "ExecuteTime": {
     "end_time": "2023-07-30T15:33:36.374517Z",
     "start_time": "2023-07-30T15:33:36.350644Z"
    }
   },
   "id": "11a1fc2f51362c2c"
  },
  {
   "cell_type": "code",
   "execution_count": 26,
   "outputs": [
    {
     "name": "stderr",
     "output_type": "stream",
     "text": [
      "WARNING:absl:At this time, the v2.11+ optimizer `tf.keras.optimizers.SGD` runs slowly on M1/M2 Macs, please use the legacy Keras optimizer instead, located at `tf.keras.optimizers.legacy.SGD`.\n",
      "WARNING:absl:There is a known slowdown when using v2.11+ Keras optimizers on M1/M2 Macs. Falling back to the legacy Keras optimizer, i.e., `tf.keras.optimizers.legacy.SGD`.\n"
     ]
    },
    {
     "name": "stdout",
     "output_type": "stream",
     "text": [
      "Epoch 1/20\n",
      "363/363 [==============================] - 0s 618us/step - loss: 1.9893 - val_loss: 0.9051\n",
      "Epoch 2/20\n",
      "363/363 [==============================] - 0s 442us/step - loss: 0.7966 - val_loss: 0.7065\n",
      "Epoch 3/20\n",
      "363/363 [==============================] - 0s 453us/step - loss: 0.6626 - val_loss: 0.6378\n",
      "Epoch 4/20\n",
      "363/363 [==============================] - 0s 654us/step - loss: 0.6091 - val_loss: 0.6033\n",
      "Epoch 5/20\n",
      "363/363 [==============================] - 0s 454us/step - loss: 0.5792 - val_loss: 0.5793\n",
      "Epoch 6/20\n",
      "363/363 [==============================] - 0s 455us/step - loss: 0.5597 - val_loss: 0.5671\n",
      "Epoch 7/20\n",
      "363/363 [==============================] - 0s 541us/step - loss: 0.5459 - val_loss: 0.5515\n",
      "Epoch 8/20\n",
      "363/363 [==============================] - 0s 508us/step - loss: 0.5349 - val_loss: 0.5418\n",
      "Epoch 9/20\n",
      "363/363 [==============================] - 0s 462us/step - loss: 0.5265 - val_loss: 0.5352\n",
      "Epoch 10/20\n",
      "363/363 [==============================] - 0s 447us/step - loss: 0.5200 - val_loss: 0.5304\n",
      "Epoch 11/20\n",
      "363/363 [==============================] - 0s 473us/step - loss: 0.5139 - val_loss: 0.5244\n",
      "Epoch 12/20\n",
      "363/363 [==============================] - 0s 639us/step - loss: 0.5089 - val_loss: 0.5177\n",
      "Epoch 13/20\n",
      "363/363 [==============================] - 0s 465us/step - loss: 0.5046 - val_loss: 0.5141\n",
      "Epoch 14/20\n",
      "363/363 [==============================] - 0s 451us/step - loss: 0.5011 - val_loss: 0.5097\n",
      "Epoch 15/20\n",
      "363/363 [==============================] - 0s 456us/step - loss: 0.4973 - val_loss: 0.5077\n",
      "Epoch 16/20\n",
      "363/363 [==============================] - 0s 445us/step - loss: 0.4945 - val_loss: 0.5052\n",
      "Epoch 17/20\n",
      "363/363 [==============================] - 0s 449us/step - loss: 0.4912 - val_loss: 0.5033\n",
      "Epoch 18/20\n",
      "363/363 [==============================] - 0s 447us/step - loss: 0.4886 - val_loss: 0.4986\n",
      "Epoch 19/20\n",
      "363/363 [==============================] - 0s 477us/step - loss: 0.4860 - val_loss: 0.4979\n",
      "Epoch 20/20\n",
      "363/363 [==============================] - 0s 458us/step - loss: 0.4834 - val_loss: 0.4958\n",
      "162/162 [==============================] - 0s 294us/step - loss: 0.4997\n",
      "1/1 [==============================] - 0s 21ms/step\n"
     ]
    }
   ],
   "source": [
    "model.compile(loss=\"mse\", optimizer=keras.optimizers.SGD(learning_rate=1e-3))\n",
    "\n",
    "X_train_A, X_train_B = X_train[:, :5], X_train[:, 2:]\n",
    "X_valid_A, X_valid_B = X_valid[:, :5], X_valid[:, 2:]\n",
    "X_test_A, X_test_B = X_test[:, :5], X_test[:, 2:]\n",
    "X_new_A, X_new_B = X_test_A[:3], X_test_B[:3]\n",
    "\n",
    "history = model.fit((X_train_A, X_train_B), y_train, epochs=20,\n",
    "                    validation_data=((X_valid_A, X_valid_B), y_valid))\n",
    "# history = model.fit({\"wide_input\": X_train_A, \"deep_input\": X_train_B}, y_train, epochs=20, validation_data=({\"wide_input\": X_valid_A, \"deep_input\": X_valid_B}, y_valid))\n",
    "# 딕셔너리 형태로 명시해줄 수 있음\n",
    "\n",
    "mse_test = model.evaluate((X_test_A, X_test_B), y_test)\n",
    "y_pred = model.predict((X_new_A, X_new_B))"
   ],
   "metadata": {
    "collapsed": false,
    "ExecuteTime": {
     "end_time": "2023-07-30T15:33:56.444884Z",
     "start_time": "2023-07-30T15:33:52.497415Z"
    }
   },
   "id": "9e2fb214f538c594"
  },
  {
   "cell_type": "code",
   "execution_count": 27,
   "outputs": [
    {
     "data": {
      "text/plain": "array([[0.61095685],\n       [1.7675967 ],\n       [2.980628  ]], dtype=float32)"
     },
     "execution_count": 27,
     "metadata": {},
     "output_type": "execute_result"
    }
   ],
   "source": [
    "y_pred"
   ],
   "metadata": {
    "collapsed": false,
    "ExecuteTime": {
     "end_time": "2023-07-30T15:33:57.643495Z",
     "start_time": "2023-07-30T15:33:57.616409Z"
    }
   },
   "id": "c6f379e267386b0b"
  },
  {
   "cell_type": "markdown",
   "source": [
    "### 출력이 여러 개 필요할 때\n",
    "- 동일한 데이터에서 독립적인 여러 작업을 수행할 때\n",
    "- 규제 기법으로 사용하는 경우"
   ],
   "metadata": {
    "collapsed": false
   },
   "id": "e286f0b517d9e75e"
  },
  {
   "cell_type": "code",
   "execution_count": 28,
   "outputs": [],
   "source": [
    "input_A = keras.layers.Input(shape=[5], name=\"wide_input\")\n",
    "input_B = keras.layers.Input(shape=[6], name=\"deep_input\")\n",
    "hidden1 = keras.layers.Dense(30, activation=\"relu\")(input_B)\n",
    "hidden2 = keras.layers.Dense(30, activation=\"relu\")(hidden1)\n",
    "concat = keras.layers.concatenate([input_A, hidden2])\n",
    "output = keras.layers.Dense(1, name=\"main_output\")(concat)\n",
    "aux_output = keras.layers.Dense(1, name=\"aux_output\")(hidden2)\n",
    "model = keras.models.Model(inputs=[input_A, input_B],\n",
    "                           outputs=[output, aux_output])"
   ],
   "metadata": {
    "collapsed": false,
    "ExecuteTime": {
     "end_time": "2023-07-30T16:06:53.025588Z",
     "start_time": "2023-07-30T16:06:52.996492Z"
    }
   },
   "id": "e9807b16050634c7"
  },
  {
   "cell_type": "code",
   "execution_count": 32,
   "outputs": [],
   "source": [
    "model.compile(loss=[\"mse\", \"mse\"], loss_weights=[0.9, 0.1], optimizer=tf.keras.optimizers.legacy.SGD(learning_rate=1e-3))"
   ],
   "metadata": {
    "collapsed": false,
    "ExecuteTime": {
     "end_time": "2023-07-30T16:08:51.793818Z",
     "start_time": "2023-07-30T16:08:51.749510Z"
    }
   },
   "id": "220fd98dda6fd003"
  },
  {
   "cell_type": "code",
   "execution_count": 33,
   "outputs": [
    {
     "name": "stdout",
     "output_type": "stream",
     "text": [
      "Epoch 1/20\n",
      "363/363 [==============================] - 1s 846us/step - loss: 2.6756 - main_output_loss: 2.4743 - aux_output_loss: 4.4875 - val_loss: 1.2355 - val_main_output_loss: 0.9947 - val_aux_output_loss: 3.4023\n",
      "Epoch 2/20\n",
      "363/363 [==============================] - 0s 528us/step - loss: 0.9995 - main_output_loss: 0.8040 - aux_output_loss: 2.7587 - val_loss: 0.8584 - val_main_output_loss: 0.7007 - val_aux_output_loss: 2.2770\n",
      "Epoch 3/20\n",
      "363/363 [==============================] - 0s 517us/step - loss: 0.8018 - main_output_loss: 0.6715 - aux_output_loss: 1.9742 - val_loss: 0.7600 - val_main_output_loss: 0.6484 - val_aux_output_loss: 1.7638\n",
      "Epoch 4/20\n",
      "363/363 [==============================] - 0s 526us/step - loss: 0.7283 - main_output_loss: 0.6313 - aux_output_loss: 1.6012 - val_loss: 0.7103 - val_main_output_loss: 0.6239 - val_aux_output_loss: 1.4881\n",
      "Epoch 5/20\n",
      "363/363 [==============================] - 0s 532us/step - loss: 0.6871 - main_output_loss: 0.6087 - aux_output_loss: 1.3925 - val_loss: 0.6775 - val_main_output_loss: 0.6051 - val_aux_output_loss: 1.3287\n",
      "Epoch 6/20\n",
      "363/363 [==============================] - 0s 531us/step - loss: 0.6591 - main_output_loss: 0.5915 - aux_output_loss: 1.2681 - val_loss: 0.6553 - val_main_output_loss: 0.5919 - val_aux_output_loss: 1.2258\n",
      "Epoch 7/20\n",
      "363/363 [==============================] - 0s 520us/step - loss: 0.6387 - main_output_loss: 0.5782 - aux_output_loss: 1.1838 - val_loss: 0.6377 - val_main_output_loss: 0.5807 - val_aux_output_loss: 1.1502\n",
      "Epoch 8/20\n",
      "363/363 [==============================] - 0s 519us/step - loss: 0.6227 - main_output_loss: 0.5672 - aux_output_loss: 1.1223 - val_loss: 0.6237 - val_main_output_loss: 0.5712 - val_aux_output_loss: 1.0958\n",
      "Epoch 9/20\n",
      "363/363 [==============================] - 0s 542us/step - loss: 0.6096 - main_output_loss: 0.5580 - aux_output_loss: 1.0748 - val_loss: 0.6123 - val_main_output_loss: 0.5631 - val_aux_output_loss: 1.0544\n",
      "Epoch 10/20\n",
      "363/363 [==============================] - 0s 527us/step - loss: 0.5991 - main_output_loss: 0.5503 - aux_output_loss: 1.0377 - val_loss: 0.6026 - val_main_output_loss: 0.5560 - val_aux_output_loss: 1.0219\n",
      "Epoch 11/20\n",
      "363/363 [==============================] - 0s 588us/step - loss: 0.5898 - main_output_loss: 0.5434 - aux_output_loss: 1.0077 - val_loss: 0.5946 - val_main_output_loss: 0.5500 - val_aux_output_loss: 0.9960\n",
      "Epoch 12/20\n",
      "363/363 [==============================] - 0s 517us/step - loss: 0.5820 - main_output_loss: 0.5375 - aux_output_loss: 0.9832 - val_loss: 0.5876 - val_main_output_loss: 0.5448 - val_aux_output_loss: 0.9733\n",
      "Epoch 13/20\n",
      "363/363 [==============================] - 0s 583us/step - loss: 0.5751 - main_output_loss: 0.5322 - aux_output_loss: 0.9616 - val_loss: 0.5812 - val_main_output_loss: 0.5397 - val_aux_output_loss: 0.9554\n",
      "Epoch 14/20\n",
      "363/363 [==============================] - 0s 540us/step - loss: 0.5693 - main_output_loss: 0.5276 - aux_output_loss: 0.9441 - val_loss: 0.5758 - val_main_output_loss: 0.5355 - val_aux_output_loss: 0.9384\n",
      "Epoch 15/20\n",
      "363/363 [==============================] - 0s 516us/step - loss: 0.5637 - main_output_loss: 0.5233 - aux_output_loss: 0.9276 - val_loss: 0.5718 - val_main_output_loss: 0.5327 - val_aux_output_loss: 0.9236\n",
      "Epoch 16/20\n",
      "363/363 [==============================] - 0s 540us/step - loss: 0.5593 - main_output_loss: 0.5200 - aux_output_loss: 0.9133 - val_loss: 0.5669 - val_main_output_loss: 0.5286 - val_aux_output_loss: 0.9112\n",
      "Epoch 17/20\n",
      "363/363 [==============================] - 0s 512us/step - loss: 0.5548 - main_output_loss: 0.5164 - aux_output_loss: 0.9009 - val_loss: 0.5638 - val_main_output_loss: 0.5265 - val_aux_output_loss: 0.8993\n",
      "Epoch 18/20\n",
      "363/363 [==============================] - 0s 521us/step - loss: 0.5512 - main_output_loss: 0.5136 - aux_output_loss: 0.8893 - val_loss: 0.5600 - val_main_output_loss: 0.5235 - val_aux_output_loss: 0.8885\n",
      "Epoch 19/20\n",
      "363/363 [==============================] - 0s 528us/step - loss: 0.5479 - main_output_loss: 0.5112 - aux_output_loss: 0.8786 - val_loss: 0.5566 - val_main_output_loss: 0.5207 - val_aux_output_loss: 0.8796\n",
      "Epoch 20/20\n",
      "363/363 [==============================] - 0s 534us/step - loss: 0.5446 - main_output_loss: 0.5085 - aux_output_loss: 0.8692 - val_loss: 0.5538 - val_main_output_loss: 0.5187 - val_aux_output_loss: 0.8699\n"
     ]
    }
   ],
   "source": [
    "history = model.fit([X_train_A, X_train_B], [y_train, y_train], epochs=20,\n",
    "                    validation_data=([X_valid_A, X_valid_B], [y_valid, y_valid]))"
   ],
   "metadata": {
    "collapsed": false,
    "ExecuteTime": {
     "end_time": "2023-07-30T16:09:10.891698Z",
     "start_time": "2023-07-30T16:09:06.566243Z"
    }
   },
   "id": "5bc7f1551b1f5a02"
  },
  {
   "cell_type": "code",
   "execution_count": 34,
   "outputs": [
    {
     "name": "stdout",
     "output_type": "stream",
     "text": [
      "162/162 [==============================] - 0s 396us/step - loss: 0.5469 - main_output_loss: 0.5145 - aux_output_loss: 0.8379\n",
      "WARNING:tensorflow:5 out of the last 5 calls to <function Model.make_predict_function.<locals>.predict_function at 0x1496c09d0> triggered tf.function retracing. Tracing is expensive and the excessive number of tracings could be due to (1) creating @tf.function repeatedly in a loop, (2) passing tensors with different shapes, (3) passing Python objects instead of tensors. For (1), please define your @tf.function outside of the loop. For (2), @tf.function has reduce_retracing=True option that can avoid unnecessary retracing. For (3), please refer to https://www.tensorflow.org/guide/function#controlling_retracing and https://www.tensorflow.org/api_docs/python/tf/function for  more details.\n"
     ]
    },
    {
     "name": "stderr",
     "output_type": "stream",
     "text": [
      "WARNING:tensorflow:5 out of the last 5 calls to <function Model.make_predict_function.<locals>.predict_function at 0x1496c09d0> triggered tf.function retracing. Tracing is expensive and the excessive number of tracings could be due to (1) creating @tf.function repeatedly in a loop, (2) passing tensors with different shapes, (3) passing Python objects instead of tensors. For (1), please define your @tf.function outside of the loop. For (2), @tf.function has reduce_retracing=True option that can avoid unnecessary retracing. For (3), please refer to https://www.tensorflow.org/guide/function#controlling_retracing and https://www.tensorflow.org/api_docs/python/tf/function for  more details.\n"
     ]
    },
    {
     "name": "stdout",
     "output_type": "stream",
     "text": [
      "1/1 [==============================] - 0s 26ms/step\n"
     ]
    }
   ],
   "source": [
    "total_loss, main_loss, aux_loss = model.evaluate(\n",
    "    [X_test_A, X_test_B], [y_test, y_test])\n",
    "y_pred_main, y_pred_aux = model.predict([X_new_A, X_new_B])"
   ],
   "metadata": {
    "collapsed": false,
    "ExecuteTime": {
     "end_time": "2023-07-30T16:09:19.246202Z",
     "start_time": "2023-07-30T16:09:19.095189Z"
    }
   },
   "id": "1b8746d5a741e9a6"
  },
  {
   "cell_type": "code",
   "execution_count": 37,
   "outputs": [
    {
     "name": "stdout",
     "output_type": "stream",
     "text": [
      "[[0.7054903]\n",
      " [1.759553 ]\n",
      " [2.7266278]]\n",
      "\n",
      "[[1.1412153]\n",
      " [1.844955 ]\n",
      " [1.9123092]]\n"
     ]
    }
   ],
   "source": [
    "print(y_pred_main)\n",
    "print()\n",
    "print(y_pred_aux)"
   ],
   "metadata": {
    "collapsed": false,
    "ExecuteTime": {
     "end_time": "2023-07-30T16:11:29.420798Z",
     "start_time": "2023-07-30T16:11:29.413492Z"
    }
   },
   "id": "ac139ffa4cc32025"
  },
  {
   "cell_type": "code",
   "execution_count": null,
   "outputs": [],
   "source": [],
   "metadata": {
    "collapsed": false
   },
   "id": "5adfde37d5b899cb"
  }
 ],
 "metadata": {
  "kernelspec": {
   "display_name": "Python 3",
   "language": "python",
   "name": "python3"
  },
  "language_info": {
   "codemirror_mode": {
    "name": "ipython",
    "version": 2
   },
   "file_extension": ".py",
   "mimetype": "text/x-python",
   "name": "python",
   "nbconvert_exporter": "python",
   "pygments_lexer": "ipython2",
   "version": "2.7.6"
  }
 },
 "nbformat": 4,
 "nbformat_minor": 5
}
