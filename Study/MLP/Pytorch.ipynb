{
 "cells": [
  {
   "cell_type": "markdown",
   "source": [
    "# MLP 구현 with Pytorch"
   ],
   "metadata": {
    "collapsed": false
   },
   "id": "cf296fbd27153dc5"
  },
  {
   "cell_type": "code",
   "execution_count": 7,
   "id": "initial_id",
   "metadata": {
    "collapsed": true,
    "ExecuteTime": {
     "end_time": "2023-08-03T13:30:29.093733Z",
     "start_time": "2023-08-03T13:30:29.092108Z"
    }
   },
   "outputs": [],
   "source": [
    "import torch\n",
    "import torch.nn as nn\n",
    "import torch.nn.functional as F"
   ]
  },
  {
   "cell_type": "code",
   "execution_count": 8,
   "outputs": [],
   "source": [
    "class MultilayerPerceptron(nn.Module):\n",
    "    def __init__(self, input_dim, hidden_dim, output_dim):\n",
    "        \"\"\"\n",
    "        매개변수:\n",
    "            input_dim (int): 입력 벡터 크기\n",
    "            hidden_dim (int): 첫 번째 Linear 층의 출력 크기\n",
    "            output_dim (int): 두 번째 Linear 층의 출력 크기\n",
    "        \"\"\"\n",
    "        super(MultilayerPerceptron, self).__init__()\n",
    "        self.fc1 = nn.Linear(input_dim, hidden_dim)\n",
    "        self.fc2 = nn.Linear(hidden_dim, output_dim)\n",
    "\n",
    "    def forward(self, x_in, apply_softmax=False):\n",
    "        \"\"\"MLP의 정방향 계산\n",
    "        \n",
    "        매개변수:\n",
    "            x_in (torch.Tensor): 입력 데이터 텐서\n",
    "                x_in.shape는 (batch, input_dim)입니다.\n",
    "            apply_softmax (bool): 소프트맥스 활성화 함수를 위한 플래그\n",
    "                크로스-엔트로피 손실을 사용하려면 False로 지정해야 합니다.\n",
    "        반환값:\n",
    "            결과 텐서. tensor.shape은 (batch, output_dim)입니다.\n",
    "        \"\"\"\n",
    "        intermediate = F.relu(self.fc1(x_in))\n",
    "        output = self.fc2(intermediate)\n",
    "        \n",
    "        if apply_softmax:\n",
    "            output = F.softmax(output, dim=1)\n",
    "        return output"
   ],
   "metadata": {
    "collapsed": false,
    "ExecuteTime": {
     "end_time": "2023-08-03T13:30:29.537656Z",
     "start_time": "2023-08-03T13:30:29.532882Z"
    }
   },
   "id": "25b46194b42c0f45"
  },
  {
   "cell_type": "markdown",
   "source": [
    "### MLP 객체 생성 예제"
   ],
   "metadata": {
    "collapsed": false
   },
   "id": "baee26f9e110e620"
  },
  {
   "cell_type": "code",
   "execution_count": 9,
   "outputs": [
    {
     "name": "stdout",
     "output_type": "stream",
     "text": [
      "MultilayerPerceptron(\n",
      "  (fc1): Linear(in_features=3, out_features=100, bias=True)\n",
      "  (fc2): Linear(in_features=100, out_features=4, bias=True)\n",
      ")\n"
     ]
    }
   ],
   "source": [
    "batch_size = 2 # 한 번에 입력할 샘플 개수\n",
    "input_dim = 3\n",
    "hidden_dim = 100\n",
    "output_dim = 4\n",
    "\n",
    "# 모델 생성\n",
    "mlp = MultilayerPerceptron(input_dim, hidden_dim, output_dim)\n",
    "print(mlp)"
   ],
   "metadata": {
    "collapsed": false,
    "ExecuteTime": {
     "end_time": "2023-08-03T13:30:30.497410Z",
     "start_time": "2023-08-03T13:30:30.490395Z"
    }
   },
   "id": "46e26f9be0a64629"
  },
  {
   "cell_type": "markdown",
   "source": [
    "### 모델 상태 체크: 랜덤 입력값 전달해보기"
   ],
   "metadata": {
    "collapsed": false
   },
   "id": "20d2d8923d8d2ade"
  },
  {
   "cell_type": "code",
   "execution_count": 10,
   "outputs": [],
   "source": [
    "def describe(x):\n",
    "    print(\"타입: {}\".format(x.type()))\n",
    "    print(\"크기: {}\".format(x.shape))\n",
    "    print(\"값: \\n{}\".format(x))"
   ],
   "metadata": {
    "collapsed": false,
    "ExecuteTime": {
     "end_time": "2023-08-03T13:30:31.463682Z",
     "start_time": "2023-08-03T13:30:31.461187Z"
    }
   },
   "id": "22be8d63c567a9e6"
  },
  {
   "cell_type": "code",
   "execution_count": 11,
   "outputs": [
    {
     "name": "stdout",
     "output_type": "stream",
     "text": [
      "타입: torch.FloatTensor\n",
      "크기: torch.Size([2, 3])\n",
      "값: \n",
      "tensor([[0.0540, 0.8310, 0.6155],\n",
      "        [0.6472, 0.7175, 0.4205]])\n"
     ]
    }
   ],
   "source": [
    "# 입력\n",
    "x_input = torch.rand(batch_size, input_dim)\n",
    "describe(x_input)"
   ],
   "metadata": {
    "collapsed": false,
    "ExecuteTime": {
     "end_time": "2023-08-03T13:30:32.254514Z",
     "start_time": "2023-08-03T13:30:32.250734Z"
    }
   },
   "id": "94e2dc481e98549a"
  },
  {
   "cell_type": "code",
   "execution_count": 12,
   "outputs": [
    {
     "name": "stdout",
     "output_type": "stream",
     "text": [
      "타입: torch.FloatTensor\n",
      "크기: torch.Size([2, 4])\n",
      "값: \n",
      "tensor([[-0.0476, -0.0317, -0.0122, -0.2330],\n",
      "        [-0.1574, -0.1216, -0.0426, -0.0754]], grad_fn=<AddmmBackward0>)\n"
     ]
    }
   ],
   "source": [
    "y_output = mlp(x_input, apply_softmax=False)\n",
    "describe(y_output)"
   ],
   "metadata": {
    "collapsed": false,
    "ExecuteTime": {
     "end_time": "2023-08-03T13:30:40.804756Z",
     "start_time": "2023-08-03T13:30:40.793130Z"
    }
   },
   "id": "a26a55cfd04df7f"
  },
  {
   "cell_type": "markdown",
   "source": [
    "### softmax func 사용해서 모델 테크"
   ],
   "metadata": {
    "collapsed": false
   },
   "id": "e955598589442737"
  },
  {
   "cell_type": "code",
   "execution_count": 13,
   "outputs": [
    {
     "name": "stdout",
     "output_type": "stream",
     "text": [
      "타입: torch.FloatTensor\n",
      "크기: torch.Size([2, 4])\n",
      "값: \n",
      "tensor([[0.2575, 0.2617, 0.2668, 0.2140],\n",
      "        [0.2357, 0.2442, 0.2643, 0.2558]], grad_fn=<SoftmaxBackward0>)\n"
     ]
    }
   ],
   "source": [
    "y_output = mlp(x_input, apply_softmax=True)\n",
    "describe(y_output)"
   ],
   "metadata": {
    "collapsed": false,
    "ExecuteTime": {
     "end_time": "2023-08-03T13:39:07.424386Z",
     "start_time": "2023-08-03T13:39:07.412327Z"
    }
   },
   "id": "1e1f057a663298fe"
  },
  {
   "cell_type": "code",
   "execution_count": null,
   "outputs": [],
   "source": [],
   "metadata": {
    "collapsed": false
   },
   "id": "afe60e4daec21913"
  }
 ],
 "metadata": {
  "kernelspec": {
   "display_name": "Python 3",
   "language": "python",
   "name": "python3"
  },
  "language_info": {
   "codemirror_mode": {
    "name": "ipython",
    "version": 2
   },
   "file_extension": ".py",
   "mimetype": "text/x-python",
   "name": "python",
   "nbconvert_exporter": "python",
   "pygments_lexer": "ipython2",
   "version": "2.7.6"
  }
 },
 "nbformat": 4,
 "nbformat_minor": 5
}
