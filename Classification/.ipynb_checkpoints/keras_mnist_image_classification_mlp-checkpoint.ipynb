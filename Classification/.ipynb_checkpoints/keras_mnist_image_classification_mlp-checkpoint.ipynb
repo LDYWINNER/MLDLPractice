{
 "cells": [
  {
   "cell_type": "markdown",
   "id": "2ef312f14cd153a5",
   "metadata": {},
   "source": [
    "## SETUP"
   ]
  },
  {
   "cell_type": "code",
   "execution_count": 3,
   "id": "909557946df2a116",
   "metadata": {
    "ExecuteTime": {
     "end_time": "2023-07-30T07:02:13.278935Z",
     "start_time": "2023-07-30T07:02:13.276174Z"
    }
   },
   "outputs": [
    {
     "ename": "ModuleNotFoundError",
     "evalue": "No module named 'tensorflow'",
     "output_type": "error",
     "traceback": [
      "\u001b[0;31m---------------------------------------------------------------------------\u001b[0m",
      "\u001b[0;31mModuleNotFoundError\u001b[0m                       Traceback (most recent call last)",
      "Cell \u001b[0;32mIn[3], line 10\u001b[0m\n\u001b[1;32m      7\u001b[0m \u001b[38;5;28;01massert\u001b[39;00m sklearn\u001b[38;5;241m.\u001b[39m__version__ \u001b[38;5;241m>\u001b[39m\u001b[38;5;241m=\u001b[39m \u001b[38;5;124m\"\u001b[39m\u001b[38;5;124m0.20\u001b[39m\u001b[38;5;124m\"\u001b[39m\n\u001b[1;32m      9\u001b[0m \u001b[38;5;66;03m# 텐서플로 ≥2.0 필수\u001b[39;00m\n\u001b[0;32m---> 10\u001b[0m \u001b[38;5;28;01mimport\u001b[39;00m \u001b[38;5;21;01mtensorflow\u001b[39;00m \u001b[38;5;28;01mas\u001b[39;00m \u001b[38;5;21;01mtf\u001b[39;00m\n\u001b[1;32m     11\u001b[0m \u001b[38;5;28;01massert\u001b[39;00m tf\u001b[38;5;241m.\u001b[39m__version__ \u001b[38;5;241m>\u001b[39m\u001b[38;5;241m=\u001b[39m \u001b[38;5;124m\"\u001b[39m\u001b[38;5;124m2.0\u001b[39m\u001b[38;5;124m\"\u001b[39m\n\u001b[1;32m     13\u001b[0m \u001b[38;5;66;03m# 공통 모듈 임포트\u001b[39;00m\n",
      "\u001b[0;31mModuleNotFoundError\u001b[0m: No module named 'tensorflow'"
     ]
    }
   ],
   "source": [
    "# 파이썬 ≥3.5 필수\n",
    "import sys\n",
    "assert sys.version_info >= (3, 5)\n",
    "\n",
    "# 사이킷런 ≥0.20 필수\n",
    "import sklearn\n",
    "assert sklearn.__version__ >= \"0.20\"\n",
    "\n",
    "# 텐서플로 ≥2.0 필수\n",
    "import tensorflow as tf\n",
    "assert tf.__version__ >= \"2.0\"\n",
    "\n",
    "# 공통 모듈 임포트\n",
    "import numpy as np\n",
    "import os\n",
    "\n",
    "# 노트북 실행 결과를 동일하게 유지하기 위해\n",
    "np.random.seed(42)\n",
    "\n",
    "# 깔끔한 그래프 출력을 위해\n",
    "%matplotlib inline\n",
    "import matplotlib as mpl\n",
    "import matplotlib.pyplot as plt\n",
    "mpl.rc('axes', labelsize=14)\n",
    "mpl.rc('xtick', labelsize=12)\n",
    "mpl.rc('ytick', labelsize=12)\n",
    "\n",
    "# 그림을 저장할 위치\n",
    "PROJECT_ROOT_DIR = \".\"\n",
    "CHAPTER_ID = \"ann\"\n",
    "IMAGES_PATH = os.path.join(PROJECT_ROOT_DIR, \"images\", CHAPTER_ID)\n",
    "os.makedirs(IMAGES_PATH, exist_ok=True)\n",
    "\n",
    "def save_fig(fig_id, tight_layout=True, fig_extension=\"png\", resolution=300):\n",
    "    path = os.path.join(IMAGES_PATH, fig_id + \".\" + fig_extension)\n",
    "    print(\"그림 저장:\", fig_id)\n",
    "    if tight_layout:\n",
    "        plt.tight_layout()\n",
    "    plt.savefig(path, format=fig_extension, dpi=resolution)"
   ]
  },
  {
   "cell_type": "code",
   "execution_count": null,
   "id": "initial_id",
   "metadata": {
    "ExecuteTime": {
     "end_time": "2023-07-30T07:02:13.757951Z",
     "start_time": "2023-07-30T07:02:13.743046Z"
    }
   },
   "outputs": [],
   "source": [
    "import tensorflow as tf\n",
    "from tensorflow import keras\n",
    "print(tf.__version__)"
   ]
  },
  {
   "cell_type": "markdown",
   "id": "5bc678d09215fe8d",
   "metadata": {},
   "source": [
    "## 데이터셋 적재"
   ]
  },
  {
   "cell_type": "code",
   "execution_count": null,
   "id": "7a388f5fd6caf92e",
   "metadata": {
    "ExecuteTime": {
     "end_time": "2023-07-30T07:02:15.185943Z",
     "start_time": "2023-07-30T07:02:14.940317Z"
    }
   },
   "outputs": [],
   "source": [
    "fashion_mnist = keras.datasets.fashion_mnist\n",
    "(X_train_full, y_train_full), (X_test, y_test) = fashion_mnist.load_data()"
   ]
  },
  {
   "cell_type": "code",
   "execution_count": null,
   "id": "eaa9ed572cc901e2",
   "metadata": {
    "ExecuteTime": {
     "end_time": "2023-07-30T07:02:15.609239Z",
     "start_time": "2023-07-30T07:02:15.602893Z"
    }
   },
   "outputs": [],
   "source": [
    "X_train_full.shape"
   ]
  },
  {
   "cell_type": "code",
   "execution_count": null,
   "id": "222b786b380f01c8",
   "metadata": {
    "ExecuteTime": {
     "end_time": "2023-07-30T07:02:15.980701Z",
     "start_time": "2023-07-30T07:02:15.977277Z"
    }
   },
   "outputs": [],
   "source": [
    "X_train_full.dtype"
   ]
  },
  {
   "cell_type": "code",
   "execution_count": null,
   "id": "7d20e2cf77a67c",
   "metadata": {
    "ExecuteTime": {
     "end_time": "2023-07-30T07:02:16.475378Z",
     "start_time": "2023-07-30T07:02:16.300785Z"
    }
   },
   "outputs": [],
   "source": [
    "X_valid, X_train = X_train_full[:5000] / 255.0, X_train_full[5000:] / 255.\n",
    "y_valid, y_train = y_train_full[:5000], y_train_full[5000:]\n",
    "X_test = X_test / 255."
   ]
  },
  {
   "cell_type": "code",
   "execution_count": null,
   "id": "8fec4414e2a207f6",
   "metadata": {
    "ExecuteTime": {
     "end_time": "2023-07-30T07:02:17.039451Z",
     "start_time": "2023-07-30T07:02:16.995022Z"
    }
   },
   "outputs": [],
   "source": [
    "plt.imshow(X_train[0], cmap=\"binary\")\n",
    "plt.axis('off')\n",
    "plt.show()"
   ]
  },
  {
   "cell_type": "code",
   "execution_count": null,
   "id": "bdadf5fe85c1213d",
   "metadata": {
    "ExecuteTime": {
     "end_time": "2023-07-30T07:02:39.321104Z",
     "start_time": "2023-07-30T07:02:39.305482Z"
    }
   },
   "outputs": [],
   "source": [
    "y_train"
   ]
  },
  {
   "cell_type": "code",
   "execution_count": null,
   "id": "31c4fcd75ea19f33",
   "metadata": {
    "ExecuteTime": {
     "end_time": "2023-07-30T07:03:04.932102Z",
     "start_time": "2023-07-30T07:03:04.924034Z"
    }
   },
   "outputs": [],
   "source": [
    "class_names = [\"T-shirt/top\", \"Trouser\", \"Pullover\", \"Dress\", \"Coat\",\n",
    "               \"Sandal\", \"Shirt\", \"Sneaker\", \"Bag\", \"Ankle boot\"]"
   ]
  },
  {
   "cell_type": "code",
   "execution_count": null,
   "id": "e7043506d9e61051",
   "metadata": {
    "ExecuteTime": {
     "end_time": "2023-07-30T07:03:49.239373Z",
     "start_time": "2023-07-30T07:03:49.225875Z"
    }
   },
   "outputs": [],
   "source": [
    "class_names[y_train[0]]"
   ]
  },
  {
   "cell_type": "code",
   "execution_count": null,
   "id": "6bad8a28419b1366",
   "metadata": {
    "ExecuteTime": {
     "end_time": "2023-07-30T07:11:13.020565Z",
     "start_time": "2023-07-30T07:11:13.016625Z"
    }
   },
   "outputs": [],
   "source": [
    "X_valid.shape"
   ]
  },
  {
   "cell_type": "code",
   "execution_count": null,
   "id": "f3cccc1a1268acf2",
   "metadata": {
    "ExecuteTime": {
     "end_time": "2023-07-30T07:11:21.458328Z",
     "start_time": "2023-07-30T07:11:21.451599Z"
    }
   },
   "outputs": [],
   "source": [
    "X_test.shape"
   ]
  },
  {
   "cell_type": "code",
   "execution_count": null,
   "id": "82c3773990357862",
   "metadata": {
    "ExecuteTime": {
     "end_time": "2023-07-30T07:11:42.815831Z",
     "start_time": "2023-07-30T07:11:41.570056Z"
    }
   },
   "outputs": [],
   "source": [
    "n_rows = 4\n",
    "n_cols = 10\n",
    "plt.figure(figsize=(n_cols * 1.2, n_rows * 1.2))\n",
    "for row in range(n_rows):\n",
    "    for col in range(n_cols):\n",
    "        index = n_cols * row + col\n",
    "        plt.subplot(n_rows, n_cols, index + 1)\n",
    "        plt.imshow(X_train[index], cmap=\"binary\", interpolation=\"nearest\")\n",
    "        plt.axis('off')\n",
    "        plt.title(class_names[y_train[index]], fontsize=12)\n",
    "plt.subplots_adjust(wspace=0.2, hspace=0.5)\n",
    "save_fig('fashion_mnist_plot', tight_layout=False)\n",
    "plt.show()"
   ]
  },
  {
   "cell_type": "markdown",
   "id": "ef03a91ae8c6fb72",
   "metadata": {},
   "source": [
    "2개의 은닉층으로 이루어진 분류용 다층 퍼셉트론"
   ]
  },
  {
   "cell_type": "code",
   "execution_count": null,
   "id": "1aa799fbcafb9399",
   "metadata": {
    "ExecuteTime": {
     "end_time": "2023-07-30T07:13:39.949620Z",
     "start_time": "2023-07-30T07:13:39.555622Z"
    }
   },
   "outputs": [],
   "source": [
    "model = keras.models.Sequential()\n",
    "model.add(keras.layers.Flatten(input_shape=[28, 28]))\n",
    "model.add(keras.layers.Dense(300, activation=\"relu\"))\n",
    "model.add(keras.layers.Dense(100, activation=\"relu\"))\n",
    "model.add(keras.layers.Dense(10, activation=\"softmax\"))"
   ]
  },
  {
   "cell_type": "code",
   "execution_count": null,
   "id": "b807c45487365138",
   "metadata": {
    "ExecuteTime": {
     "end_time": "2023-07-30T07:14:16.852784Z",
     "start_time": "2023-07-30T07:14:16.844633Z"
    }
   },
   "outputs": [],
   "source": [
    "model.layers"
   ]
  },
  {
   "cell_type": "code",
   "execution_count": null,
   "id": "cf9592c16e5baab4",
   "metadata": {
    "ExecuteTime": {
     "end_time": "2023-07-30T07:15:03.297480Z",
     "start_time": "2023-07-30T07:15:03.282314Z"
    }
   },
   "outputs": [],
   "source": [
    "keras.backend.clear_session()\n",
    "np.random.seed(42)\n",
    "tf.random.set_seed(42)"
   ]
  },
  {
   "cell_type": "code",
   "execution_count": null,
   "id": "334b278724590de3",
   "metadata": {
    "ExecuteTime": {
     "end_time": "2023-07-30T07:15:22.882937Z",
     "start_time": "2023-07-30T07:15:22.793499Z"
    }
   },
   "outputs": [],
   "source": [
    "# 다른 initialization method\n",
    "model = keras.models.Sequential([\n",
    "    keras.layers.Flatten(input_shape=[28, 28]),\n",
    "    keras.layers.Dense(300, activation=\"relu\"),\n",
    "    keras.layers.Dense(100, activation=\"relu\"),\n",
    "    keras.layers.Dense(10, activation=\"softmax\")\n",
    "])"
   ]
  },
  {
   "cell_type": "code",
   "execution_count": null,
   "id": "232b6ef6d235a6ea",
   "metadata": {
    "ExecuteTime": {
     "end_time": "2023-07-30T07:15:34.353634Z",
     "start_time": "2023-07-30T07:15:34.333449Z"
    }
   },
   "outputs": [],
   "source": [
    "model.layers"
   ]
  },
  {
   "cell_type": "code",
   "execution_count": null,
   "id": "554542605f8d7b52",
   "metadata": {
    "ExecuteTime": {
     "end_time": "2023-07-30T07:47:19.112952Z",
     "start_time": "2023-07-30T07:47:19.102166Z"
    }
   },
   "outputs": [],
   "source": [
    "model.summary()"
   ]
  },
  {
   "cell_type": "code",
   "execution_count": null,
   "id": "7278edca30403728",
   "metadata": {
    "ExecuteTime": {
     "end_time": "2023-07-30T07:55:37.085955Z",
     "start_time": "2023-07-30T07:55:37.083170Z"
    }
   },
   "outputs": [],
   "source": [
    "keras.utils.plot_model(model, \"my_fashion_mnist_model.png\", show_shapes=True)"
   ]
  },
  {
   "cell_type": "code",
   "execution_count": null,
   "id": "dcb477e3261d932c",
   "metadata": {},
   "outputs": [],
   "source": []
  }
 ],
 "metadata": {
  "kernelspec": {
   "display_name": "Python 3 (ipykernel)",
   "language": "python",
   "name": "python3"
  },
  "language_info": {
   "codemirror_mode": {
    "name": "ipython",
    "version": 3
   },
   "file_extension": ".py",
   "mimetype": "text/x-python",
   "name": "python",
   "nbconvert_exporter": "python",
   "pygments_lexer": "ipython3",
   "version": "3.10.9"
  }
 },
 "nbformat": 4,
 "nbformat_minor": 5
}
