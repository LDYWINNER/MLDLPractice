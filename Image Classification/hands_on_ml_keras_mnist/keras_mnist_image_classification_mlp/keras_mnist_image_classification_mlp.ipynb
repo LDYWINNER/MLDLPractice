{
 "cells": [
  {
   "cell_type": "markdown",
   "id": "2ef312f14cd153a5",
   "metadata": {},
   "source": [
    "## SETUP"
   ]
  },
  {
   "cell_type": "code",
   "execution_count": 110,
   "id": "909557946df2a116",
   "metadata": {
    "ExecuteTime": {
     "end_time": "2023-07-30T11:04:19.309312Z",
     "start_time": "2023-07-30T11:04:19.307885Z"
    }
   },
   "outputs": [],
   "source": [
    "# 파이썬 ≥3.5 필수\n",
    "import sys\n",
    "assert sys.version_info >= (3, 5)\n",
    "\n",
    "# 사이킷런 ≥0.20 필수\n",
    "import sklearn\n",
    "assert sklearn.__version__ >= \"0.20\"\n",
    "\n",
    "# 텐서플로 ≥2.0 필수\n",
    "import tensorflow as tf\n",
    "assert tf.__version__ >= \"2.0\"\n",
    "\n",
    "# 공통 모듈 임포트\n",
    "import numpy as np\n",
    "import os\n",
    "\n",
    "# 노트북 실행 결과를 동일하게 유지하기 위해\n",
    "np.random.seed(42)\n",
    "\n",
    "# 깔끔한 그래프 출력을 위해\n",
    "%matplotlib inline\n",
    "import matplotlib as mpl\n",
    "import matplotlib.pyplot as plt\n",
    "mpl.rc('axes', labelsize=14)\n",
    "mpl.rc('xtick', labelsize=12)\n",
    "mpl.rc('ytick', labelsize=12)\n",
    "\n",
    "# 그림을 저장할 위치\n",
    "PROJECT_ROOT_DIR = \".\"\n",
    "CHAPTER_ID = \"ann\"\n",
    "IMAGES_PATH = os.path.join(PROJECT_ROOT_DIR, \"images\", CHAPTER_ID)\n",
    "os.makedirs(IMAGES_PATH, exist_ok=True)\n",
    "\n",
    "def save_fig(fig_id, tight_layout=True, fig_extension=\"png\", resolution=300):\n",
    "    path = os.path.join(IMAGES_PATH, fig_id + \".\" + fig_extension)\n",
    "    print(\"그림 저장:\", fig_id)\n",
    "    if tight_layout:\n",
    "        plt.tight_layout()\n",
    "    plt.savefig(path, format=fig_extension, dpi=resolution)"
   ]
  },
  {
   "cell_type": "code",
   "execution_count": 111,
   "id": "initial_id",
   "metadata": {
    "ExecuteTime": {
     "end_time": "2023-07-30T11:04:20.013924Z",
     "start_time": "2023-07-30T11:04:19.994035Z"
    }
   },
   "outputs": [
    {
     "name": "stdout",
     "output_type": "stream",
     "text": [
      "2.13.0\n"
     ]
    }
   ],
   "source": [
    "import tensorflow as tf\n",
    "from tensorflow import keras\n",
    "print(tf.__version__)"
   ]
  },
  {
   "cell_type": "markdown",
   "id": "5bc678d09215fe8d",
   "metadata": {},
   "source": [
    "## 데이터셋 적재"
   ]
  },
  {
   "cell_type": "code",
   "execution_count": 112,
   "id": "7a388f5fd6caf92e",
   "metadata": {
    "ExecuteTime": {
     "end_time": "2023-07-30T11:04:21.640905Z",
     "start_time": "2023-07-30T11:04:21.391882Z"
    }
   },
   "outputs": [],
   "source": [
    "fashion_mnist = keras.datasets.fashion_mnist\n",
    "(X_train_full, y_train_full), (X_test, y_test) = fashion_mnist.load_data()"
   ]
  },
  {
   "cell_type": "code",
   "execution_count": 113,
   "id": "eaa9ed572cc901e2",
   "metadata": {
    "ExecuteTime": {
     "end_time": "2023-07-30T11:04:21.990534Z",
     "start_time": "2023-07-30T11:04:21.975565Z"
    }
   },
   "outputs": [
    {
     "data": {
      "text/plain": "(60000, 28, 28)"
     },
     "execution_count": 113,
     "metadata": {},
     "output_type": "execute_result"
    }
   ],
   "source": [
    "X_train_full.shape"
   ]
  },
  {
   "cell_type": "code",
   "execution_count": 114,
   "id": "222b786b380f01c8",
   "metadata": {
    "ExecuteTime": {
     "end_time": "2023-07-30T11:04:22.627252Z",
     "start_time": "2023-07-30T11:04:22.624066Z"
    }
   },
   "outputs": [
    {
     "data": {
      "text/plain": "dtype('uint8')"
     },
     "execution_count": 114,
     "metadata": {},
     "output_type": "execute_result"
    }
   ],
   "source": [
    "X_train_full.dtype"
   ]
  },
  {
   "cell_type": "code",
   "execution_count": 115,
   "id": "7d20e2cf77a67c",
   "metadata": {
    "ExecuteTime": {
     "end_time": "2023-07-30T11:04:23.471451Z",
     "start_time": "2023-07-30T11:04:23.235947Z"
    }
   },
   "outputs": [],
   "source": [
    "X_valid, X_train = X_train_full[:5000] / 255.0, X_train_full[5000:] / 255.\n",
    "y_valid, y_train = y_train_full[:5000], y_train_full[5000:]\n",
    "X_test = X_test / 255."
   ]
  },
  {
   "cell_type": "code",
   "execution_count": 116,
   "id": "8fec4414e2a207f6",
   "metadata": {
    "ExecuteTime": {
     "end_time": "2023-07-30T11:04:23.746077Z",
     "start_time": "2023-07-30T11:04:23.700229Z"
    }
   },
   "outputs": [
    {
     "data": {
      "text/plain": "<Figure size 640x480 with 1 Axes>",
      "image/png": "[encoded data removed]"
     },
     "metadata": {},
     "output_type": "display_data"
    }
   ],
   "source": [
    "plt.imshow(X_train[0], cmap=\"binary\")\n",
    "plt.axis('off')\n",
    "plt.show()"
   ]
  },
  {
   "cell_type": "code",
   "execution_count": 117,
   "id": "bdadf5fe85c1213d",
   "metadata": {
    "ExecuteTime": {
     "end_time": "2023-07-30T11:04:24.664232Z",
     "start_time": "2023-07-30T11:04:24.658515Z"
    }
   },
   "outputs": [
    {
     "data": {
      "text/plain": "array([4, 0, 7, ..., 3, 0, 5], dtype=uint8)"
     },
     "execution_count": 117,
     "metadata": {},
     "output_type": "execute_result"
    }
   ],
   "source": [
    "y_train"
   ]
  },
  {
   "cell_type": "code",
   "execution_count": 118,
   "id": "31c4fcd75ea19f33",
   "metadata": {
    "ExecuteTime": {
     "end_time": "2023-07-30T11:04:25.749060Z",
     "start_time": "2023-07-30T11:04:25.742704Z"
    }
   },
   "outputs": [],
   "source": [
    "class_names = [\"T-shirt/top\", \"Trouser\", \"Pullover\", \"Dress\", \"Coat\",\n",
    "               \"Sandal\", \"Shirt\", \"Sneaker\", \"Bag\", \"Ankle boot\"]"
   ]
  },
  {
   "cell_type": "code",
   "execution_count": 119,
   "id": "e7043506d9e61051",
   "metadata": {
    "ExecuteTime": {
     "end_time": "2023-07-30T11:04:26.364867Z",
     "start_time": "2023-07-30T11:04:26.359688Z"
    }
   },
   "outputs": [
    {
     "data": {
      "text/plain": "'Coat'"
     },
     "execution_count": 119,
     "metadata": {},
     "output_type": "execute_result"
    }
   ],
   "source": [
    "class_names[y_train[0]]"
   ]
  },
  {
   "cell_type": "code",
   "execution_count": 120,
   "id": "6bad8a28419b1366",
   "metadata": {
    "ExecuteTime": {
     "end_time": "2023-07-30T11:04:26.773584Z",
     "start_time": "2023-07-30T11:04:26.769127Z"
    }
   },
   "outputs": [
    {
     "data": {
      "text/plain": "(5000, 28, 28)"
     },
     "execution_count": 120,
     "metadata": {},
     "output_type": "execute_result"
    }
   ],
   "source": [
    "X_valid.shape"
   ]
  },
  {
   "cell_type": "code",
   "execution_count": 121,
   "id": "f3cccc1a1268acf2",
   "metadata": {
    "ExecuteTime": {
     "end_time": "2023-07-30T11:04:27.335205Z",
     "start_time": "2023-07-30T11:04:27.315897Z"
    }
   },
   "outputs": [
    {
     "data": {
      "text/plain": "(10000, 28, 28)"
     },
     "execution_count": 121,
     "metadata": {},
     "output_type": "execute_result"
    }
   ],
   "source": [
    "X_test.shape"
   ]
  },
  {
   "cell_type": "code",
   "execution_count": 122,
   "id": "82c3773990357862",
   "metadata": {
    "ExecuteTime": {
     "end_time": "2023-07-30T11:04:29.238550Z",
     "start_time": "2023-07-30T11:04:27.737526Z"
    }
   },
   "outputs": [
    {
     "name": "stdout",
     "output_type": "stream",
     "text": [
      "그림 저장: fashion_mnist_plot\n"
     ]
    },
    {
     "data": {
      "text/plain": "<Figure size 1200x480 with 40 Axes>",
      "image/png": "[encoded data removed]"
     },
     "metadata": {},
     "output_type": "display_data"
    }
   ],
   "source": [
    "n_rows = 4\n",
    "n_cols = 10\n",
    "plt.figure(figsize=(n_cols * 1.2, n_rows * 1.2))\n",
    "for row in range(n_rows):\n",
    "    for col in range(n_cols):\n",
    "        index = n_cols * row + col\n",
    "        plt.subplot(n_rows, n_cols, index + 1)\n",
    "        plt.imshow(X_train[index], cmap=\"binary\", interpolation=\"nearest\")\n",
    "        plt.axis('off')\n",
    "        plt.title(class_names[y_train[index]], fontsize=12)\n",
    "plt.subplots_adjust(wspace=0.2, hspace=0.5)\n",
    "save_fig('fashion_mnist_plot', tight_layout=False)\n",
    "plt.show()"
   ]
  },
  {
   "cell_type": "markdown",
   "id": "ef03a91ae8c6fb72",
   "metadata": {},
   "source": [
    "2개의 은닉층으로 이루어진 분류용 다층 퍼셉트론"
   ]
  },
  {
   "cell_type": "code",
   "execution_count": 123,
   "id": "1aa799fbcafb9399",
   "metadata": {
    "ExecuteTime": {
     "end_time": "2023-07-30T11:04:32.934401Z",
     "start_time": "2023-07-30T11:04:32.856288Z"
    }
   },
   "outputs": [],
   "source": [
    "model = keras.models.Sequential()\n",
    "model.add(keras.layers.Flatten(input_shape=[28, 28]))\n",
    "model.add(keras.layers.Dense(300, activation=\"relu\"))\n",
    "model.add(keras.layers.Dense(100, activation=\"relu\"))\n",
    "model.add(keras.layers.Dense(10, activation=\"softmax\"))"
   ]
  },
  {
   "cell_type": "code",
   "execution_count": 124,
   "id": "b807c45487365138",
   "metadata": {
    "ExecuteTime": {
     "end_time": "2023-07-30T11:04:33.306060Z",
     "start_time": "2023-07-30T11:04:33.292711Z"
    }
   },
   "outputs": [
    {
     "data": {
      "text/plain": "[<keras.src.layers.reshaping.flatten.Flatten at 0x2d9b496c0>,\n <keras.src.layers.core.dense.Dense at 0x2de06b580>,\n <keras.src.layers.core.dense.Dense at 0x2de06a590>,\n <keras.src.layers.core.dense.Dense at 0x2c8a21c90>]"
     },
     "execution_count": 124,
     "metadata": {},
     "output_type": "execute_result"
    }
   ],
   "source": [
    "model.layers"
   ]
  },
  {
   "cell_type": "code",
   "execution_count": 125,
   "id": "cf9592c16e5baab4",
   "metadata": {
    "ExecuteTime": {
     "end_time": "2023-07-30T11:04:33.753096Z",
     "start_time": "2023-07-30T11:04:33.750813Z"
    }
   },
   "outputs": [],
   "source": [
    "keras.backend.clear_session()\n",
    "np.random.seed(42)\n",
    "tf.random.set_seed(42)"
   ]
  },
  {
   "cell_type": "code",
   "execution_count": 126,
   "id": "334b278724590de3",
   "metadata": {
    "ExecuteTime": {
     "end_time": "2023-07-30T11:04:34.214873Z",
     "start_time": "2023-07-30T11:04:34.137931Z"
    }
   },
   "outputs": [],
   "source": [
    "# 다른 initialization method\n",
    "model = keras.models.Sequential([\n",
    "    keras.layers.Flatten(input_shape=[28, 28]),\n",
    "    keras.layers.Dense(300, activation=\"relu\"),\n",
    "    keras.layers.Dense(100, activation=\"relu\"),\n",
    "    keras.layers.Dense(10, activation=\"softmax\")\n",
    "])"
   ]
  },
  {
   "cell_type": "code",
   "execution_count": 127,
   "id": "232b6ef6d235a6ea",
   "metadata": {
    "ExecuteTime": {
     "end_time": "2023-07-30T11:04:34.472046Z",
     "start_time": "2023-07-30T11:04:34.460322Z"
    }
   },
   "outputs": [
    {
     "data": {
      "text/plain": "[<keras.src.layers.reshaping.flatten.Flatten at 0x2de12c850>,\n <keras.src.layers.core.dense.Dense at 0x2c8a22c80>,\n <keras.src.layers.core.dense.Dense at 0x2c8a20d90>,\n <keras.src.layers.core.dense.Dense at 0x2c8a21930>]"
     },
     "execution_count": 127,
     "metadata": {},
     "output_type": "execute_result"
    }
   ],
   "source": [
    "model.layers"
   ]
  },
  {
   "cell_type": "code",
   "execution_count": 128,
   "id": "554542605f8d7b52",
   "metadata": {
    "ExecuteTime": {
     "end_time": "2023-07-30T11:04:34.916745Z",
     "start_time": "2023-07-30T11:04:34.905290Z"
    }
   },
   "outputs": [
    {
     "name": "stdout",
     "output_type": "stream",
     "text": [
      "Model: \"sequential\"\n",
      "_________________________________________________________________\n",
      " Layer (type)                Output Shape              Param #   \n",
      "=================================================================\n",
      " flatten (Flatten)           (None, 784)               0         \n",
      "                                                                 \n",
      " dense (Dense)               (None, 300)               235500    \n",
      "                                                                 \n",
      " dense_1 (Dense)             (None, 100)               30100     \n",
      "                                                                 \n",
      " dense_2 (Dense)             (None, 10)                1010      \n",
      "                                                                 \n",
      "=================================================================\n",
      "Total params: 266610 (1.02 MB)\n",
      "Trainable params: 266610 (1.02 MB)\n",
      "Non-trainable params: 0 (0.00 Byte)\n",
      "_________________________________________________________________\n"
     ]
    }
   ],
   "source": [
    "model.summary()"
   ]
  },
  {
   "cell_type": "code",
   "execution_count": 129,
   "id": "7278edca30403728",
   "metadata": {
    "ExecuteTime": {
     "end_time": "2023-07-30T11:04:35.354526Z",
     "start_time": "2023-07-30T11:04:35.345233Z"
    }
   },
   "outputs": [
    {
     "name": "stdout",
     "output_type": "stream",
     "text": [
      "You must install pydot (`pip install pydot`) and install graphviz (see instructions at https://graphviz.gitlab.io/download/) for plot_model to work.\n"
     ]
    }
   ],
   "source": [
    "keras.utils.plot_model(model, \"my_fashion_mnist_model.png\", show_shapes=True)"
   ]
  },
  {
   "cell_type": "code",
   "execution_count": 130,
   "id": "dcb477e3261d932c",
   "metadata": {
    "ExecuteTime": {
     "end_time": "2023-07-30T11:04:35.914894Z",
     "start_time": "2023-07-30T11:04:35.909618Z"
    }
   },
   "outputs": [],
   "source": [
    "hidden1 = model.layers[1]"
   ]
  },
  {
   "cell_type": "code",
   "execution_count": 131,
   "id": "d4a8a7db",
   "metadata": {
    "ExecuteTime": {
     "end_time": "2023-07-30T11:04:36.450846Z",
     "start_time": "2023-07-30T11:04:36.441572Z"
    }
   },
   "outputs": [
    {
     "data": {
      "text/plain": "'dense'"
     },
     "execution_count": 131,
     "metadata": {},
     "output_type": "execute_result"
    }
   ],
   "source": [
    "hidden1.name"
   ]
  },
  {
   "cell_type": "code",
   "execution_count": 132,
   "id": "71d9ebef",
   "metadata": {
    "ExecuteTime": {
     "end_time": "2023-07-30T11:04:36.860790Z",
     "start_time": "2023-07-30T11:04:36.840357Z"
    }
   },
   "outputs": [
    {
     "data": {
      "text/plain": "True"
     },
     "execution_count": 132,
     "metadata": {},
     "output_type": "execute_result"
    }
   ],
   "source": [
    "model.get_layer('dense') is hidden1"
   ]
  },
  {
   "cell_type": "code",
   "execution_count": 133,
   "id": "9c5a3c30",
   "metadata": {
    "ExecuteTime": {
     "end_time": "2023-07-30T11:04:37.305082Z",
     "start_time": "2023-07-30T11:04:37.298037Z"
    }
   },
   "outputs": [],
   "source": [
    "weights, biases = hidden1.get_weights()"
   ]
  },
  {
   "cell_type": "code",
   "execution_count": 134,
   "outputs": [
    {
     "data": {
      "text/plain": "array([[ 6.65977597e-02,  3.61725911e-02, -6.60071820e-02, ...,\n        -1.55378282e-02,  1.00955367e-05, -1.72929689e-02],\n       [-3.83496135e-02,  2.07231492e-02, -5.42104281e-02, ...,\n         3.33101973e-02, -3.35339271e-02, -3.03110108e-02],\n       [-2.03340724e-02,  5.04003912e-02, -6.31644949e-02, ...,\n        -2.34800950e-02,  1.32982433e-02,  2.17659622e-02],\n       ...,\n       [-1.58224665e-02, -2.94753164e-03,  5.44492155e-02, ...,\n         6.05567694e-02, -1.43221989e-02, -3.40060554e-02],\n       [ 6.63286150e-02, -5.04307933e-02, -4.67715263e-02, ...,\n        -1.00865215e-02, -1.14440918e-04, -6.83625042e-02],\n       [ 3.24603617e-02,  7.34090358e-02, -5.98713011e-03, ...,\n        -2.61183865e-02,  3.92965674e-02,  5.82079887e-02]], dtype=float32)"
     },
     "execution_count": 134,
     "metadata": {},
     "output_type": "execute_result"
    }
   ],
   "source": [
    "weights"
   ],
   "metadata": {
    "collapsed": false,
    "ExecuteTime": {
     "end_time": "2023-07-30T11:04:37.666916Z",
     "start_time": "2023-07-30T11:04:37.647782Z"
    }
   },
   "id": "99759193ae90b7c9"
  },
  {
   "cell_type": "code",
   "execution_count": 135,
   "outputs": [
    {
     "data": {
      "text/plain": "(784, 300)"
     },
     "execution_count": 135,
     "metadata": {},
     "output_type": "execute_result"
    }
   ],
   "source": [
    "weights.shape"
   ],
   "metadata": {
    "collapsed": false,
    "ExecuteTime": {
     "end_time": "2023-07-30T11:04:37.971158Z",
     "start_time": "2023-07-30T11:04:37.917718Z"
    }
   },
   "id": "88f38df451d33106"
  },
  {
   "cell_type": "code",
   "execution_count": 136,
   "outputs": [
    {
     "data": {
      "text/plain": "array([0., 0., 0., 0., 0., 0., 0., 0., 0., 0., 0., 0., 0., 0., 0., 0., 0.,\n       0., 0., 0., 0., 0., 0., 0., 0., 0., 0., 0., 0., 0., 0., 0., 0., 0.,\n       0., 0., 0., 0., 0., 0., 0., 0., 0., 0., 0., 0., 0., 0., 0., 0., 0.,\n       0., 0., 0., 0., 0., 0., 0., 0., 0., 0., 0., 0., 0., 0., 0., 0., 0.,\n       0., 0., 0., 0., 0., 0., 0., 0., 0., 0., 0., 0., 0., 0., 0., 0., 0.,\n       0., 0., 0., 0., 0., 0., 0., 0., 0., 0., 0., 0., 0., 0., 0., 0., 0.,\n       0., 0., 0., 0., 0., 0., 0., 0., 0., 0., 0., 0., 0., 0., 0., 0., 0.,\n       0., 0., 0., 0., 0., 0., 0., 0., 0., 0., 0., 0., 0., 0., 0., 0., 0.,\n       0., 0., 0., 0., 0., 0., 0., 0., 0., 0., 0., 0., 0., 0., 0., 0., 0.,\n       0., 0., 0., 0., 0., 0., 0., 0., 0., 0., 0., 0., 0., 0., 0., 0., 0.,\n       0., 0., 0., 0., 0., 0., 0., 0., 0., 0., 0., 0., 0., 0., 0., 0., 0.,\n       0., 0., 0., 0., 0., 0., 0., 0., 0., 0., 0., 0., 0., 0., 0., 0., 0.,\n       0., 0., 0., 0., 0., 0., 0., 0., 0., 0., 0., 0., 0., 0., 0., 0., 0.,\n       0., 0., 0., 0., 0., 0., 0., 0., 0., 0., 0., 0., 0., 0., 0., 0., 0.,\n       0., 0., 0., 0., 0., 0., 0., 0., 0., 0., 0., 0., 0., 0., 0., 0., 0.,\n       0., 0., 0., 0., 0., 0., 0., 0., 0., 0., 0., 0., 0., 0., 0., 0., 0.,\n       0., 0., 0., 0., 0., 0., 0., 0., 0., 0., 0., 0., 0., 0., 0., 0., 0.,\n       0., 0., 0., 0., 0., 0., 0., 0., 0., 0., 0.], dtype=float32)"
     },
     "execution_count": 136,
     "metadata": {},
     "output_type": "execute_result"
    }
   ],
   "source": [
    "biases"
   ],
   "metadata": {
    "collapsed": false,
    "ExecuteTime": {
     "end_time": "2023-07-30T11:04:38.479904Z",
     "start_time": "2023-07-30T11:04:38.416946Z"
    }
   },
   "id": "f23e18c0ebf29bc8"
  },
  {
   "cell_type": "code",
   "execution_count": 137,
   "outputs": [
    {
     "data": {
      "text/plain": "(300,)"
     },
     "execution_count": 137,
     "metadata": {},
     "output_type": "execute_result"
    }
   ],
   "source": [
    "biases.shape"
   ],
   "metadata": {
    "collapsed": false,
    "ExecuteTime": {
     "end_time": "2023-07-30T11:04:38.854598Z",
     "start_time": "2023-07-30T11:04:38.851245Z"
    }
   },
   "id": "ba4357b780a6cdef"
  },
  {
   "cell_type": "code",
   "execution_count": 138,
   "outputs": [],
   "source": [
    "model.compile(loss=\"sparse_categorical_crossentropy\", optimizer=\"sgd\", metrics=[\"accuracy\"])"
   ],
   "metadata": {
    "collapsed": false,
    "ExecuteTime": {
     "end_time": "2023-07-30T11:04:39.379069Z",
     "start_time": "2023-07-30T11:04:39.369656Z"
    }
   },
   "id": "8ea0e690a0038b52"
  },
  {
   "cell_type": "code",
   "execution_count": 139,
   "outputs": [
    {
     "name": "stdout",
     "output_type": "stream",
     "text": [
      "Epoch 1/30\n",
      "1719/1719 [==============================] - 2s 1ms/step - loss: 0.7167 - accuracy: 0.7636 - val_loss: 0.5243 - val_accuracy: 0.8212\n",
      "Epoch 2/30\n",
      "1719/1719 [==============================] - 2s 998us/step - loss: 0.4850 - accuracy: 0.8301 - val_loss: 0.4374 - val_accuracy: 0.8490\n",
      "Epoch 3/30\n",
      "1719/1719 [==============================] - 2s 1ms/step - loss: 0.4402 - accuracy: 0.8451 - val_loss: 0.5310 - val_accuracy: 0.8014\n",
      "Epoch 4/30\n",
      "1719/1719 [==============================] - 2s 1ms/step - loss: 0.4142 - accuracy: 0.8558 - val_loss: 0.3924 - val_accuracy: 0.8660\n",
      "Epoch 5/30\n",
      "1719/1719 [==============================] - 2s 1ms/step - loss: 0.3959 - accuracy: 0.8611 - val_loss: 0.3827 - val_accuracy: 0.8654\n",
      "Epoch 6/30\n",
      "1719/1719 [==============================] - 2s 1ms/step - loss: 0.3773 - accuracy: 0.8665 - val_loss: 0.3722 - val_accuracy: 0.8752\n",
      "Epoch 7/30\n",
      "1719/1719 [==============================] - 2s 1ms/step - loss: 0.3654 - accuracy: 0.8700 - val_loss: 0.3731 - val_accuracy: 0.8696\n",
      "Epoch 8/30\n",
      "1719/1719 [==============================] - 2s 1ms/step - loss: 0.3543 - accuracy: 0.8730 - val_loss: 0.4013 - val_accuracy: 0.8580\n",
      "Epoch 9/30\n",
      "1719/1719 [==============================] - 2s 1ms/step - loss: 0.3439 - accuracy: 0.8778 - val_loss: 0.3595 - val_accuracy: 0.8696\n",
      "Epoch 10/30\n",
      "1719/1719 [==============================] - 2s 1ms/step - loss: 0.3344 - accuracy: 0.8799 - val_loss: 0.3536 - val_accuracy: 0.8728\n",
      "Epoch 11/30\n",
      "1719/1719 [==============================] - 2s 1ms/step - loss: 0.3267 - accuracy: 0.8834 - val_loss: 0.3458 - val_accuracy: 0.8770\n",
      "Epoch 12/30\n",
      "1719/1719 [==============================] - 2s 1ms/step - loss: 0.3177 - accuracy: 0.8860 - val_loss: 0.3356 - val_accuracy: 0.8812\n",
      "Epoch 13/30\n",
      "1719/1719 [==============================] - 2s 1ms/step - loss: 0.3108 - accuracy: 0.8887 - val_loss: 0.3372 - val_accuracy: 0.8844\n",
      "Epoch 14/30\n",
      "1719/1719 [==============================] - 2s 1ms/step - loss: 0.3044 - accuracy: 0.8897 - val_loss: 0.3442 - val_accuracy: 0.8762\n",
      "Epoch 15/30\n",
      "1719/1719 [==============================] - 2s 1ms/step - loss: 0.2970 - accuracy: 0.8939 - val_loss: 0.3333 - val_accuracy: 0.8792\n",
      "Epoch 16/30\n",
      "1719/1719 [==============================] - 2s 1ms/step - loss: 0.2919 - accuracy: 0.8955 - val_loss: 0.3152 - val_accuracy: 0.8858\n",
      "Epoch 17/30\n",
      "1719/1719 [==============================] - 2s 1ms/step - loss: 0.2861 - accuracy: 0.8972 - val_loss: 0.3526 - val_accuracy: 0.8726\n",
      "Epoch 18/30\n",
      "1719/1719 [==============================] - 2s 1ms/step - loss: 0.2804 - accuracy: 0.8985 - val_loss: 0.3161 - val_accuracy: 0.8850\n",
      "Epoch 19/30\n",
      "1719/1719 [==============================] - 2s 1ms/step - loss: 0.2753 - accuracy: 0.9005 - val_loss: 0.3169 - val_accuracy: 0.8894\n",
      "Epoch 20/30\n",
      "1719/1719 [==============================] - 2s 1ms/step - loss: 0.2701 - accuracy: 0.9022 - val_loss: 0.3361 - val_accuracy: 0.8762\n",
      "Epoch 21/30\n",
      "1719/1719 [==============================] - 2s 1ms/step - loss: 0.2643 - accuracy: 0.9046 - val_loss: 0.3113 - val_accuracy: 0.8874\n",
      "Epoch 22/30\n",
      "1719/1719 [==============================] - 2s 1ms/step - loss: 0.2597 - accuracy: 0.9069 - val_loss: 0.3018 - val_accuracy: 0.8898\n",
      "Epoch 23/30\n",
      "1719/1719 [==============================] - 2s 1ms/step - loss: 0.2556 - accuracy: 0.9086 - val_loss: 0.3045 - val_accuracy: 0.8884\n",
      "Epoch 24/30\n",
      "1719/1719 [==============================] - 2s 1ms/step - loss: 0.2515 - accuracy: 0.9093 - val_loss: 0.3098 - val_accuracy: 0.8846\n",
      "Epoch 25/30\n",
      "1719/1719 [==============================] - 2s 1ms/step - loss: 0.2469 - accuracy: 0.9112 - val_loss: 0.3040 - val_accuracy: 0.8886\n",
      "Epoch 26/30\n",
      "1719/1719 [==============================] - 2s 1ms/step - loss: 0.2423 - accuracy: 0.9129 - val_loss: 0.3076 - val_accuracy: 0.8906\n",
      "Epoch 27/30\n",
      "1719/1719 [==============================] - 2s 1ms/step - loss: 0.2391 - accuracy: 0.9140 - val_loss: 0.3042 - val_accuracy: 0.8918\n",
      "Epoch 28/30\n",
      "1719/1719 [==============================] - 2s 1ms/step - loss: 0.2356 - accuracy: 0.9147 - val_loss: 0.3059 - val_accuracy: 0.8898\n",
      "Epoch 29/30\n",
      "1719/1719 [==============================] - 2s 1ms/step - loss: 0.2310 - accuracy: 0.9165 - val_loss: 0.3136 - val_accuracy: 0.8870\n",
      "Epoch 30/30\n",
      "1719/1719 [==============================] - 2s 1ms/step - loss: 0.2275 - accuracy: 0.9181 - val_loss: 0.3118 - val_accuracy: 0.8872\n"
     ]
    }
   ],
   "source": [
    "history = model.fit(X_train, y_train, epochs=30, validation_data=(X_valid, y_valid))"
   ],
   "metadata": {
    "collapsed": false,
    "ExecuteTime": {
     "end_time": "2023-07-30T11:05:36.187407Z",
     "start_time": "2023-07-30T11:04:39.902706Z"
    }
   },
   "id": "a4db060329d33b35"
  },
  {
   "cell_type": "code",
   "execution_count": 141,
   "outputs": [
    {
     "data": {
      "text/plain": "{'verbose': 1, 'epochs': 30, 'steps': 1719}"
     },
     "execution_count": 141,
     "metadata": {},
     "output_type": "execute_result"
    }
   ],
   "source": [
    "history.params\n",
    "# 훈련 파라미터"
   ],
   "metadata": {
    "collapsed": false,
    "ExecuteTime": {
     "end_time": "2023-07-30T11:05:40.824619Z",
     "start_time": "2023-07-30T11:05:40.821618Z"
    }
   },
   "id": "c721c7cb79804813"
  },
  {
   "cell_type": "code",
   "execution_count": 142,
   "outputs": [
    {
     "name": "stdout",
     "output_type": "stream",
     "text": [
      "[0, 1, 2, 3, 4, 5, 6, 7, 8, 9, 10, 11, 12, 13, 14, 15, 16, 17, 18, 19, 20, 21, 22, 23, 24, 25, 26, 27, 28, 29]\n"
     ]
    }
   ],
   "source": [
    "print(history.epoch)"
   ],
   "metadata": {
    "collapsed": false,
    "ExecuteTime": {
     "end_time": "2023-07-30T11:05:41.233605Z",
     "start_time": "2023-07-30T11:05:41.229432Z"
    }
   },
   "id": "f04956d562e1f669"
  },
  {
   "cell_type": "code",
   "execution_count": 143,
   "outputs": [
    {
     "data": {
      "text/plain": "dict_keys(['loss', 'accuracy', 'val_loss', 'val_accuracy'])"
     },
     "execution_count": 143,
     "metadata": {},
     "output_type": "execute_result"
    }
   ],
   "source": [
    "history.history.keys()"
   ],
   "metadata": {
    "collapsed": false,
    "ExecuteTime": {
     "end_time": "2023-07-30T11:05:41.560797Z",
     "start_time": "2023-07-30T11:05:41.551915Z"
    }
   },
   "id": "aaa7c1ddad7907fe"
  },
  {
   "cell_type": "code",
   "execution_count": 144,
   "outputs": [
    {
     "name": "stdout",
     "output_type": "stream",
     "text": [
      "{'loss': [0.7167182564735413, 0.4849548637866974, 0.4401925802230835, 0.41420209407806396, 0.39594680070877075, 0.377289354801178, 0.36544281244277954, 0.35430386662483215, 0.34386900067329407, 0.3343501687049866, 0.3267350494861603, 0.31770092248916626, 0.3108031749725342, 0.30436399579048157, 0.2969798743724823, 0.29193729162216187, 0.2861318290233612, 0.2803514003753662, 0.27532440423965454, 0.2701486051082611, 0.26429635286331177, 0.25973382592201233, 0.2556378245353699, 0.2514825165271759, 0.24691376090049744, 0.24229852855205536, 0.2390771508216858, 0.23561561107635498, 0.23100893199443817, 0.22749021649360657], 'accuracy': [0.7635999917984009, 0.8300908803939819, 0.845090925693512, 0.8558181524276733, 0.8610727190971375, 0.86649090051651, 0.8699818253517151, 0.873018205165863, 0.8778363466262817, 0.8798909187316895, 0.883400022983551, 0.8860363364219666, 0.8886908888816833, 0.8896727561950684, 0.8938727378845215, 0.895545482635498, 0.8971818089485168, 0.8985090851783752, 0.9005454778671265, 0.9022363424301147, 0.9046363830566406, 0.9069272875785828, 0.908618152141571, 0.9092909097671509, 0.9111999869346619, 0.9129454493522644, 0.9139999747276306, 0.9147272706031799, 0.9165454506874084, 0.9180908799171448], 'val_loss': [0.5242888927459717, 0.43742847442626953, 0.5310103297233582, 0.39236482977867126, 0.3827367126941681, 0.3722197413444519, 0.37306439876556396, 0.40133336186408997, 0.3595152199268341, 0.3535502254962921, 0.34582293033599854, 0.335590124130249, 0.33723896741867065, 0.34420496225357056, 0.33329468965530396, 0.3152196407318115, 0.352565199136734, 0.31605803966522217, 0.3169356882572174, 0.33614808320999146, 0.3113247752189636, 0.3017963767051697, 0.30445998907089233, 0.30976593494415283, 0.3040418326854706, 0.30764687061309814, 0.3042009174823761, 0.3058761656284332, 0.31361404061317444, 0.3117602467536926], 'val_accuracy': [0.8212000131607056, 0.8489999771118164, 0.8014000058174133, 0.8659999966621399, 0.8654000163078308, 0.8751999735832214, 0.8695999979972839, 0.8579999804496765, 0.8695999979972839, 0.8727999925613403, 0.8769999742507935, 0.8812000155448914, 0.8844000101089478, 0.8762000203132629, 0.8791999816894531, 0.8858000040054321, 0.8726000189781189, 0.8849999904632568, 0.8894000053405762, 0.8762000203132629, 0.8873999714851379, 0.8898000121116638, 0.8884000182151794, 0.8845999836921692, 0.8885999917984009, 0.8906000256538391, 0.8917999863624573, 0.8898000121116638, 0.8870000243186951, 0.8871999979019165]}\n"
     ]
    }
   ],
   "source": [
    "print(history.history)"
   ],
   "metadata": {
    "collapsed": false,
    "ExecuteTime": {
     "end_time": "2023-07-30T11:05:41.970394Z",
     "start_time": "2023-07-30T11:05:41.960994Z"
    }
   },
   "id": "a3b2904dceedde80"
  },
  {
   "cell_type": "code",
   "execution_count": 145,
   "outputs": [
    {
     "name": "stdout",
     "output_type": "stream",
     "text": [
      "그림 저장: keras_learning_curves_plot\n"
     ]
    },
    {
     "data": {
      "text/plain": "<Figure size 800x500 with 1 Axes>",
      "image/png": "[encoded data removed]"
     },
     "metadata": {},
     "output_type": "display_data"
    }
   ],
   "source": [
    "import pandas as pd\n",
    "\n",
    "pd.DataFrame(history.history).plot(figsize=(8, 5))\n",
    "plt.grid(True)\n",
    "plt.gca().set_ylim(0, 1)\n",
    "save_fig(\"keras_learning_curves_plot\")\n",
    "plt.show() "
   ],
   "metadata": {
    "collapsed": false,
    "ExecuteTime": {
     "end_time": "2023-07-30T11:05:43.089838Z",
     "start_time": "2023-07-30T11:05:42.721436Z"
    }
   },
   "id": "af5d67954ef61643"
  },
  {
   "cell_type": "code",
   "execution_count": 146,
   "outputs": [
    {
     "name": "stdout",
     "output_type": "stream",
     "text": [
      "313/313 [==============================] - 0s 566us/step - loss: 0.3416 - accuracy: 0.8803\n"
     ]
    },
    {
     "data": {
      "text/plain": "[0.3416295051574707, 0.880299985408783]"
     },
     "execution_count": 146,
     "metadata": {},
     "output_type": "execute_result"
    }
   ],
   "source": [
    "model.evaluate(X_test, y_test)"
   ],
   "metadata": {
    "collapsed": false,
    "ExecuteTime": {
     "end_time": "2023-07-30T11:26:52.941545Z",
     "start_time": "2023-07-30T11:26:52.616427Z"
    }
   },
   "id": "d6361c92e966f8b8"
  },
  {
   "cell_type": "code",
   "execution_count": 147,
   "outputs": [
    {
     "name": "stdout",
     "output_type": "stream",
     "text": [
      "1/1 [==============================] - 0s 279ms/step\n"
     ]
    },
    {
     "data": {
      "text/plain": "array([[0.  , 0.  , 0.  , 0.  , 0.  , 0.02, 0.  , 0.02, 0.  , 0.96],\n       [0.  , 0.  , 0.99, 0.  , 0.01, 0.  , 0.  , 0.  , 0.  , 0.  ],\n       [0.  , 1.  , 0.  , 0.  , 0.  , 0.  , 0.  , 0.  , 0.  , 0.  ]],\n      dtype=float32)"
     },
     "execution_count": 147,
     "metadata": {},
     "output_type": "execute_result"
    }
   ],
   "source": [
    "# 예측 : test 데이터 첫 3개 사용\n",
    "X_new = X_test[:3]\n",
    "y_proba = model.predict(X_new)\n",
    "y_proba.round(2)"
   ],
   "metadata": {
    "collapsed": false,
    "ExecuteTime": {
     "end_time": "2023-07-30T12:16:12.761735Z",
     "start_time": "2023-07-30T12:16:12.432242Z"
    }
   },
   "id": "d5927a8f100776a0"
  },
  {
   "cell_type": "code",
   "execution_count": 152,
   "outputs": [
    {
     "name": "stdout",
     "output_type": "stream",
     "text": [
      "1/1 [==============================] - 0s 13ms/step\n"
     ]
    }
   ],
   "source": [
    "# 가장 높은 확률을 가진 클래스만 확인하는 방법\n",
    "y_pred = np.argmax(model.predict(X_new), axis=-1)"
   ],
   "metadata": {
    "collapsed": false,
    "ExecuteTime": {
     "end_time": "2023-07-30T12:22:44.619901Z",
     "start_time": "2023-07-30T12:22:44.568796Z"
    }
   },
   "id": "5fb407ccd86f2f5"
  },
  {
   "cell_type": "code",
   "execution_count": 153,
   "outputs": [
    {
     "data": {
      "text/plain": "array([9, 2, 1])"
     },
     "execution_count": 153,
     "metadata": {},
     "output_type": "execute_result"
    }
   ],
   "source": [
    "y_pred"
   ],
   "metadata": {
    "collapsed": false,
    "ExecuteTime": {
     "end_time": "2023-07-30T12:22:45.919127Z",
     "start_time": "2023-07-30T12:22:45.907330Z"
    }
   },
   "id": "669c64b93937472a"
  },
  {
   "cell_type": "code",
   "execution_count": 154,
   "outputs": [
    {
     "data": {
      "text/plain": "array(['Ankle boot', 'Pullover', 'Trouser'], dtype='<U11')"
     },
     "execution_count": 154,
     "metadata": {},
     "output_type": "execute_result"
    }
   ],
   "source": [
    "np.array(class_names)[y_pred]"
   ],
   "metadata": {
    "collapsed": false,
    "ExecuteTime": {
     "end_time": "2023-07-30T12:22:47.642672Z",
     "start_time": "2023-07-30T12:22:47.637068Z"
    }
   },
   "id": "3d9516f6f2fc34c7"
  },
  {
   "cell_type": "code",
   "execution_count": 155,
   "outputs": [
    {
     "data": {
      "text/plain": "array([9, 2, 1], dtype=uint8)"
     },
     "execution_count": 155,
     "metadata": {},
     "output_type": "execute_result"
    }
   ],
   "source": [
    "y_new = y_test[:3]\n",
    "y_new"
   ],
   "metadata": {
    "collapsed": false,
    "ExecuteTime": {
     "end_time": "2023-07-30T12:23:02.573392Z",
     "start_time": "2023-07-30T12:23:02.542097Z"
    }
   },
   "id": "5a44d371d1955a33"
  },
  {
   "cell_type": "code",
   "execution_count": null,
   "outputs": [],
   "source": [],
   "metadata": {
    "collapsed": false
   },
   "id": "80a248dde784b8c5"
  }
 ],
 "metadata": {
  "kernelspec": {
   "display_name": "Python 3 (ipykernel)",
   "language": "python",
   "name": "python3"
  },
  "language_info": {
   "codemirror_mode": {
    "name": "ipython",
    "version": 3
   },
   "file_extension": ".py",
   "mimetype": "text/x-python",
   "name": "python",
   "nbconvert_exporter": "python",
   "pygments_lexer": "ipython3",
   "version": "3.10.11"
  }
 },
 "nbformat": 4,
 "nbformat_minor": 5
}
