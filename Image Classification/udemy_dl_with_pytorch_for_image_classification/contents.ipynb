{
 "cells": [
  {
   "cell_type": "markdown",
   "source": [
    "# Main contents summarized"
   ],
   "metadata": {
    "collapsed": false
   },
   "id": "b602a8a717baecda"
  },
  {
   "cell_type": "markdown",
   "source": [
    "### #4 CNN(LeNet, VGG, Resnet, GoogleNet)\n",
    "\n",
    "- Simple architecture of CNN: \n",
    "    - convolutional layer\n",
    "    - activation layer\n",
    "    - pooling layer\n",
    "    - fully connected layer\n",
    "- We repeat convolutional, activation, pooling layer many times and then flatten the output feature map and then give it to the fully connected feedforward network (MLP)\n",
    "\n",
    "- Popular CNNs\n",
    "    - LeNet: first successful applications of CNN (read zip codes and digits)\n",
    "    - AlexNet: first work that popularized CNN in Computer vision\n",
    "        - very similar architecture with LeNet but was deeper, bigger, and featured convolutional layers stacked on top of each other (previously it was common to only have a single convolutional layer always immediately followed by pooling layer)\n",
    "    - GoogLeNet: main contribution was the development of an Inception module that dramatically reduced the number of parameters in the network(4M compared to AlexNet with 60M)\n",
    "        - uses Average pooling instead of fully connected layers at the top of the convolutional network, eliminating large amount of parameters that do not seem to matter much\n",
    "    - VGGNet: showed the depth of the network is a critical component for good performance\n",
    "        - its final best network contains 16 convolutional/fully connected layers and appealingly features an extremely homogeneous architecture that only performs 3x3 convolutions and 2x2 pooling from the beginning to the end\n",
    "        - downside: more expensive to evaluate and uses a lot more memory and parameters(140M)\n",
    "        - most of these params are in the first fully connected layer, and it was since found that these FC layers can be removed with no performance downgrade, significantly reducing the number of necessary parameters\n",
    "    - ResNet: most commonly used\n",
    "        - features special skip connections and a heavy use of batch normalization\n",
    "        - latest CNN + default choice for using CNN in practice\n",
    " "
   ],
   "metadata": {
    "collapsed": false
   },
   "id": "282cc07bde0e40ee"
  },
  {
   "cell_type": "markdown",
   "source": [
    "### #5 Image Classification with single label and multi-label\n",
    "\n",
    "- "
   ],
   "metadata": {
    "collapsed": false
   },
   "id": "f4308f0969689ad6"
  }
 ],
 "metadata": {
  "kernelspec": {
   "display_name": "Python 3",
   "language": "python",
   "name": "python3"
  },
  "language_info": {
   "codemirror_mode": {
    "name": "ipython",
    "version": 2
   },
   "file_extension": ".py",
   "mimetype": "text/x-python",
   "name": "python",
   "nbconvert_exporter": "python",
   "pygments_lexer": "ipython2",
   "version": "2.7.6"
  }
 },
 "nbformat": 4,
 "nbformat_minor": 5
}
